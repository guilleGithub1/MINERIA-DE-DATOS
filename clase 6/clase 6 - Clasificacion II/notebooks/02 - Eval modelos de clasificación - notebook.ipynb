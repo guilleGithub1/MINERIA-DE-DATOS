{
 "cells": [
  {
   "cell_type": "markdown",
   "metadata": {},
   "source": [
    "<center><img src=\"img/Marca-ITBA-Color-ALTA.png\" width=\"250\">\n",
    "\n",
    "<h1>Master en Management & Analytics</h1>\n",
    "</center>\n"
   ]
  },
  {
   "cell_type": "markdown",
   "metadata": {},
   "source": [
    "## Clase 6 - Evaluación de modelos de Clasificación"
   ]
  },
  {
   "cell_type": "markdown",
   "metadata": {},
   "source": [
    "#### Referencias y bibliografía de consulta:\n",
    "\n",
    "- Introduction to Machine Learning with Python by Andreas C. Müller and Sarah Guido (O’Reilly) 2017 \n",
    "- An Introduction to Statistical Learning with Applications in R by Gareth James, Daniela Witten, Trevor Hastie and Robert Tibshirani (Springer) 2017 \n",
    "- Python Machine Learning - Second Edition by Sebastian Raschka (Packt) 2017 \n",
    "- Hands-On Machine Learning with Scikit-Learn and TensorFlow: Concepts, Tools, and Techniques to Build Intelligent Systems - Aurélien Géron\n",
    "- https://scikit-learn.org/"
   ]
  },
  {
   "cell_type": "code",
   "execution_count": 1,
   "metadata": {},
   "outputs": [],
   "source": [
    "import numpy as np\n",
    "import pandas as pd\n",
    "\n",
    "\n",
    "import matplotlib.pyplot as plt\n",
    "import matplotlib.ticker as mtick\n",
    "from matplotlib.colors import ListedColormap\n",
    "%matplotlib inline\n",
    "\n",
    "import seaborn as sns\n",
    "sns.set(style = 'white')"
   ]
  },
  {
   "cell_type": "markdown",
   "metadata": {},
   "source": [
    "## Churn de una empresa de telecomunicaciones\n",
    "\n",
    "\n",
    "En esta clase vamos a seguir trabajando con el [dataset de churn de una empresa de telecomunicaciones ficticia](https://www.kaggle.com/blastchar/telco-customer-churn). \n",
    "\n",
    "Repasemos en qué consiste el problema. Cada fila representa un cliente, cada columna contiene los atributos del cliente.\n",
    "\n",
    "El conjunto de datos incluye información sobre\n",
    "\n",
    "- Clientes que se han dado de baja en el último mes - la columna se llama Churn.\n",
    "- Servicios que cada cliente ha contratado: teléfono, líneas múltiples, Internet, seguridad en línea, copia de seguridad en línea, protección de dispositivos, soporte técnico y transmisión de TV y películas.\n",
    "- Información de la cuenta del cliente: cuánto tiempo ha sido cliente, contrato, método de pago, facturación sin papel, cargos mensuales y cargos totales.\n",
    "- Información demográfica sobre los clientes: sexo, rango de edad y si tienen pareja y personas a su cargo.\n",
    "\n",
    "Más en detalle, las columnas son las siguientes:\n",
    "\n",
    "* **customerID** : ID del cliente\n",
    "* **gender**: Si el cliente es un hombre o una mujer\n",
    "* **SeniorCitizen** : Si el cliente es una persona mayor o no (1, 0)\n",
    "* **Partner** : Si el cliente tiene pareja o no (Yes, No)\n",
    "* **Dependents** : Si el cliente tiene dependientes o no  (Yes, No)\n",
    "* **tenure** : Número de meses que el cliente ha permanecido en la empresa\n",
    "* **PhoneService** : Si el cliente tiene servicio telefónico o no (Yes, No)\n",
    "* **MultipleLines** : Si el cliente tiene varias líneas o no (Yes, No, No phone service)\n",
    "* **InternetService** : El proveedor de servicios de Internet del cliente (DSL, Fiber optic, No)\n",
    "* **OnlineSecurity** : Si el cliente tiene seguridad en línea o no (Yes, No, No internet service)\n",
    "* **OnlineBackup** : Si el cliente tiene copia de seguridad en línea o no (Yes, No, No internet service)\n",
    "* **DeviceProtection** : Si el cliente tiene protección de dispositivos o no (Yes, No, No internet service)\n",
    "* **TechSupport** : Si el cliente tiene soporte técnico o no (Yes, No, No internet service)\n",
    "* **StreamingTV** : Si el cliente tiene o no televisión en streaming (Yes, No, No internet service)\n",
    "* **StreamingMovies** : Si el cliente tiene películas en streaming o no (Yes, No, No internet service)\n",
    "* **Contract** : La duración del contrato del cliente (Month-to-month, One year, Two year)\n",
    "* **PaperlessBilling** : Si el cliente tiene facturación sin papel o no (Yes, No)\n",
    "* **PaymentMethod** : El método de pago del cliente (Electronic check, Mailed check, Bank transfer (automatic), Credit card (automatic))\n",
    "* **MonthlyCharges** : El importe cargado al cliente mensualmente\n",
    "* **TotalCharges** : El importe total cobrado al cliente\n",
    "* **Churn** : Si el cliente ha dejado la compañía (Yes or No)\n",
    "\n",
    "Nuestra variable target es **Churn**.\n",
    "\n",
    "\n",
    "\n",
    "### 1) Carga de los datos y primera inspección del dataset\n",
    "\n",
    "Comencemos, como de costumbre, importando el dataset."
   ]
  },
  {
   "cell_type": "code",
   "execution_count": 2,
   "metadata": {},
   "outputs": [
    {
     "data": {
      "text/html": [
       "<div>\n",
       "<style scoped>\n",
       "    .dataframe tbody tr th:only-of-type {\n",
       "        vertical-align: middle;\n",
       "    }\n",
       "\n",
       "    .dataframe tbody tr th {\n",
       "        vertical-align: top;\n",
       "    }\n",
       "\n",
       "    .dataframe thead th {\n",
       "        text-align: right;\n",
       "    }\n",
       "</style>\n",
       "<table border=\"1\" class=\"dataframe\">\n",
       "  <thead>\n",
       "    <tr style=\"text-align: right;\">\n",
       "      <th></th>\n",
       "      <th>customerID</th>\n",
       "      <th>gender</th>\n",
       "      <th>SeniorCitizen</th>\n",
       "      <th>Partner</th>\n",
       "      <th>Dependents</th>\n",
       "      <th>tenure</th>\n",
       "      <th>PhoneService</th>\n",
       "      <th>MultipleLines</th>\n",
       "      <th>InternetService</th>\n",
       "      <th>OnlineSecurity</th>\n",
       "      <th>...</th>\n",
       "      <th>DeviceProtection</th>\n",
       "      <th>TechSupport</th>\n",
       "      <th>StreamingTV</th>\n",
       "      <th>StreamingMovies</th>\n",
       "      <th>Contract</th>\n",
       "      <th>PaperlessBilling</th>\n",
       "      <th>PaymentMethod</th>\n",
       "      <th>MonthlyCharges</th>\n",
       "      <th>TotalCharges</th>\n",
       "      <th>Churn</th>\n",
       "    </tr>\n",
       "  </thead>\n",
       "  <tbody>\n",
       "    <tr>\n",
       "      <th>0</th>\n",
       "      <td>7590-VHVEG</td>\n",
       "      <td>Female</td>\n",
       "      <td>0</td>\n",
       "      <td>Yes</td>\n",
       "      <td>No</td>\n",
       "      <td>1</td>\n",
       "      <td>No</td>\n",
       "      <td>No phone service</td>\n",
       "      <td>DSL</td>\n",
       "      <td>No</td>\n",
       "      <td>...</td>\n",
       "      <td>No</td>\n",
       "      <td>No</td>\n",
       "      <td>No</td>\n",
       "      <td>No</td>\n",
       "      <td>Month-to-month</td>\n",
       "      <td>Yes</td>\n",
       "      <td>Electronic check</td>\n",
       "      <td>29.85</td>\n",
       "      <td>29.85</td>\n",
       "      <td>No</td>\n",
       "    </tr>\n",
       "    <tr>\n",
       "      <th>1</th>\n",
       "      <td>5575-GNVDE</td>\n",
       "      <td>Male</td>\n",
       "      <td>0</td>\n",
       "      <td>No</td>\n",
       "      <td>No</td>\n",
       "      <td>34</td>\n",
       "      <td>Yes</td>\n",
       "      <td>No</td>\n",
       "      <td>DSL</td>\n",
       "      <td>Yes</td>\n",
       "      <td>...</td>\n",
       "      <td>Yes</td>\n",
       "      <td>No</td>\n",
       "      <td>No</td>\n",
       "      <td>No</td>\n",
       "      <td>One year</td>\n",
       "      <td>No</td>\n",
       "      <td>Mailed check</td>\n",
       "      <td>56.95</td>\n",
       "      <td>1889.5</td>\n",
       "      <td>No</td>\n",
       "    </tr>\n",
       "    <tr>\n",
       "      <th>2</th>\n",
       "      <td>3668-QPYBK</td>\n",
       "      <td>Male</td>\n",
       "      <td>0</td>\n",
       "      <td>No</td>\n",
       "      <td>No</td>\n",
       "      <td>2</td>\n",
       "      <td>Yes</td>\n",
       "      <td>No</td>\n",
       "      <td>DSL</td>\n",
       "      <td>Yes</td>\n",
       "      <td>...</td>\n",
       "      <td>No</td>\n",
       "      <td>No</td>\n",
       "      <td>No</td>\n",
       "      <td>No</td>\n",
       "      <td>Month-to-month</td>\n",
       "      <td>Yes</td>\n",
       "      <td>Mailed check</td>\n",
       "      <td>53.85</td>\n",
       "      <td>108.15</td>\n",
       "      <td>Yes</td>\n",
       "    </tr>\n",
       "    <tr>\n",
       "      <th>3</th>\n",
       "      <td>7795-CFOCW</td>\n",
       "      <td>Male</td>\n",
       "      <td>0</td>\n",
       "      <td>No</td>\n",
       "      <td>No</td>\n",
       "      <td>45</td>\n",
       "      <td>No</td>\n",
       "      <td>No phone service</td>\n",
       "      <td>DSL</td>\n",
       "      <td>Yes</td>\n",
       "      <td>...</td>\n",
       "      <td>Yes</td>\n",
       "      <td>Yes</td>\n",
       "      <td>No</td>\n",
       "      <td>No</td>\n",
       "      <td>One year</td>\n",
       "      <td>No</td>\n",
       "      <td>Bank transfer (automatic)</td>\n",
       "      <td>42.30</td>\n",
       "      <td>1840.75</td>\n",
       "      <td>No</td>\n",
       "    </tr>\n",
       "    <tr>\n",
       "      <th>4</th>\n",
       "      <td>9237-HQITU</td>\n",
       "      <td>Female</td>\n",
       "      <td>0</td>\n",
       "      <td>No</td>\n",
       "      <td>No</td>\n",
       "      <td>2</td>\n",
       "      <td>Yes</td>\n",
       "      <td>No</td>\n",
       "      <td>Fiber optic</td>\n",
       "      <td>No</td>\n",
       "      <td>...</td>\n",
       "      <td>No</td>\n",
       "      <td>No</td>\n",
       "      <td>No</td>\n",
       "      <td>No</td>\n",
       "      <td>Month-to-month</td>\n",
       "      <td>Yes</td>\n",
       "      <td>Electronic check</td>\n",
       "      <td>70.70</td>\n",
       "      <td>151.65</td>\n",
       "      <td>Yes</td>\n",
       "    </tr>\n",
       "  </tbody>\n",
       "</table>\n",
       "<p>5 rows × 21 columns</p>\n",
       "</div>"
      ],
      "text/plain": [
       "   customerID  gender  SeniorCitizen Partner Dependents  tenure PhoneService  \\\n",
       "0  7590-VHVEG  Female              0     Yes         No       1           No   \n",
       "1  5575-GNVDE    Male              0      No         No      34          Yes   \n",
       "2  3668-QPYBK    Male              0      No         No       2          Yes   \n",
       "3  7795-CFOCW    Male              0      No         No      45           No   \n",
       "4  9237-HQITU  Female              0      No         No       2          Yes   \n",
       "\n",
       "      MultipleLines InternetService OnlineSecurity  ... DeviceProtection  \\\n",
       "0  No phone service             DSL             No  ...               No   \n",
       "1                No             DSL            Yes  ...              Yes   \n",
       "2                No             DSL            Yes  ...               No   \n",
       "3  No phone service             DSL            Yes  ...              Yes   \n",
       "4                No     Fiber optic             No  ...               No   \n",
       "\n",
       "  TechSupport StreamingTV StreamingMovies        Contract PaperlessBilling  \\\n",
       "0          No          No              No  Month-to-month              Yes   \n",
       "1          No          No              No        One year               No   \n",
       "2          No          No              No  Month-to-month              Yes   \n",
       "3         Yes          No              No        One year               No   \n",
       "4          No          No              No  Month-to-month              Yes   \n",
       "\n",
       "               PaymentMethod MonthlyCharges  TotalCharges Churn  \n",
       "0           Electronic check          29.85         29.85    No  \n",
       "1               Mailed check          56.95        1889.5    No  \n",
       "2               Mailed check          53.85        108.15   Yes  \n",
       "3  Bank transfer (automatic)          42.30       1840.75    No  \n",
       "4           Electronic check          70.70        151.65   Yes  \n",
       "\n",
       "[5 rows x 21 columns]"
      ]
     },
     "execution_count": 2,
     "metadata": {},
     "output_type": "execute_result"
    }
   ],
   "source": [
    "dataset = pd.read_csv('data/WA_Fn-UseC_-Telco-Customer-Churn.csv')\n",
    "\n",
    "dataset.head()"
   ]
  },
  {
   "cell_type": "markdown",
   "metadata": {},
   "source": [
    "Veamos la cantidad de filas y de columnas que tiene el dataset:"
   ]
  },
  {
   "cell_type": "code",
   "execution_count": 3,
   "metadata": {},
   "outputs": [
    {
     "name": "stdout",
     "output_type": "stream",
     "text": [
      "El dataset tiene 7043 filas y 21 columnas\n"
     ]
    }
   ],
   "source": [
    "print('El dataset tiene {} filas y {} columnas'.format(dataset.shape[0],dataset.shape[1]))"
   ]
  },
  {
   "cell_type": "markdown",
   "metadata": {},
   "source": [
    "### 2) Limpieza y preprocesamiento de datos\n",
    "\n",
    "Como ya realizamos una análisis exploratorio (EDA) en la clase anterior, en esta clase vamos pasar directamente a la limpieza y preprocesamiento de los datos. \n",
    "\n",
    "Nota: hay que señalar que en realidad no es necesario realizar cada vez todo el proceso de preprocesamiento. Podríamos perfectamente salvar los DataFrames limpios en un csv e importar directamente ese archivo. En esta clase vamos a repetir los pasos como repaso."
   ]
  },
  {
   "cell_type": "markdown",
   "metadata": {},
   "source": [
    "Recordamos que no tenemos valores nulos y que tenemos que convertir la columna `TotalCharges` a un dtype numérico, porque esta casteado como string. "
   ]
  },
  {
   "cell_type": "code",
   "execution_count": 4,
   "metadata": {},
   "outputs": [],
   "source": [
    "dataset['TotalCharges'] = dataset['TotalCharges'].replace(\" \", 0).astype('float64')"
   ]
  },
  {
   "cell_type": "markdown",
   "metadata": {},
   "source": [
    "Eliminamos la columna `customerID`:"
   ]
  },
  {
   "cell_type": "code",
   "execution_count": 5,
   "metadata": {},
   "outputs": [],
   "source": [
    "dataset.drop('customerID', axis=1, inplace=True)"
   ]
  },
  {
   "cell_type": "markdown",
   "metadata": {},
   "source": [
    "Creamos las variables dummy:"
   ]
  },
  {
   "cell_type": "code",
   "execution_count": 6,
   "metadata": {},
   "outputs": [
    {
     "data": {
      "text/html": [
       "<div>\n",
       "<style scoped>\n",
       "    .dataframe tbody tr th:only-of-type {\n",
       "        vertical-align: middle;\n",
       "    }\n",
       "\n",
       "    .dataframe tbody tr th {\n",
       "        vertical-align: top;\n",
       "    }\n",
       "\n",
       "    .dataframe thead th {\n",
       "        text-align: right;\n",
       "    }\n",
       "</style>\n",
       "<table border=\"1\" class=\"dataframe\">\n",
       "  <thead>\n",
       "    <tr style=\"text-align: right;\">\n",
       "      <th></th>\n",
       "      <th>SeniorCitizen</th>\n",
       "      <th>tenure</th>\n",
       "      <th>MonthlyCharges</th>\n",
       "      <th>TotalCharges</th>\n",
       "      <th>gender_Male</th>\n",
       "      <th>Partner_Yes</th>\n",
       "      <th>Dependents_Yes</th>\n",
       "      <th>PhoneService_Yes</th>\n",
       "      <th>MultipleLines_No phone service</th>\n",
       "      <th>MultipleLines_Yes</th>\n",
       "      <th>...</th>\n",
       "      <th>StreamingTV_Yes</th>\n",
       "      <th>StreamingMovies_No internet service</th>\n",
       "      <th>StreamingMovies_Yes</th>\n",
       "      <th>Contract_One year</th>\n",
       "      <th>Contract_Two year</th>\n",
       "      <th>PaperlessBilling_Yes</th>\n",
       "      <th>PaymentMethod_Credit card (automatic)</th>\n",
       "      <th>PaymentMethod_Electronic check</th>\n",
       "      <th>PaymentMethod_Mailed check</th>\n",
       "      <th>Churn_Yes</th>\n",
       "    </tr>\n",
       "  </thead>\n",
       "  <tbody>\n",
       "    <tr>\n",
       "      <th>0</th>\n",
       "      <td>0</td>\n",
       "      <td>1</td>\n",
       "      <td>29.85</td>\n",
       "      <td>29.85</td>\n",
       "      <td>0</td>\n",
       "      <td>1</td>\n",
       "      <td>0</td>\n",
       "      <td>0</td>\n",
       "      <td>1</td>\n",
       "      <td>0</td>\n",
       "      <td>...</td>\n",
       "      <td>0</td>\n",
       "      <td>0</td>\n",
       "      <td>0</td>\n",
       "      <td>0</td>\n",
       "      <td>0</td>\n",
       "      <td>1</td>\n",
       "      <td>0</td>\n",
       "      <td>1</td>\n",
       "      <td>0</td>\n",
       "      <td>0</td>\n",
       "    </tr>\n",
       "    <tr>\n",
       "      <th>1</th>\n",
       "      <td>0</td>\n",
       "      <td>34</td>\n",
       "      <td>56.95</td>\n",
       "      <td>1889.50</td>\n",
       "      <td>1</td>\n",
       "      <td>0</td>\n",
       "      <td>0</td>\n",
       "      <td>1</td>\n",
       "      <td>0</td>\n",
       "      <td>0</td>\n",
       "      <td>...</td>\n",
       "      <td>0</td>\n",
       "      <td>0</td>\n",
       "      <td>0</td>\n",
       "      <td>1</td>\n",
       "      <td>0</td>\n",
       "      <td>0</td>\n",
       "      <td>0</td>\n",
       "      <td>0</td>\n",
       "      <td>1</td>\n",
       "      <td>0</td>\n",
       "    </tr>\n",
       "    <tr>\n",
       "      <th>2</th>\n",
       "      <td>0</td>\n",
       "      <td>2</td>\n",
       "      <td>53.85</td>\n",
       "      <td>108.15</td>\n",
       "      <td>1</td>\n",
       "      <td>0</td>\n",
       "      <td>0</td>\n",
       "      <td>1</td>\n",
       "      <td>0</td>\n",
       "      <td>0</td>\n",
       "      <td>...</td>\n",
       "      <td>0</td>\n",
       "      <td>0</td>\n",
       "      <td>0</td>\n",
       "      <td>0</td>\n",
       "      <td>0</td>\n",
       "      <td>1</td>\n",
       "      <td>0</td>\n",
       "      <td>0</td>\n",
       "      <td>1</td>\n",
       "      <td>1</td>\n",
       "    </tr>\n",
       "    <tr>\n",
       "      <th>3</th>\n",
       "      <td>0</td>\n",
       "      <td>45</td>\n",
       "      <td>42.30</td>\n",
       "      <td>1840.75</td>\n",
       "      <td>1</td>\n",
       "      <td>0</td>\n",
       "      <td>0</td>\n",
       "      <td>0</td>\n",
       "      <td>1</td>\n",
       "      <td>0</td>\n",
       "      <td>...</td>\n",
       "      <td>0</td>\n",
       "      <td>0</td>\n",
       "      <td>0</td>\n",
       "      <td>1</td>\n",
       "      <td>0</td>\n",
       "      <td>0</td>\n",
       "      <td>0</td>\n",
       "      <td>0</td>\n",
       "      <td>0</td>\n",
       "      <td>0</td>\n",
       "    </tr>\n",
       "    <tr>\n",
       "      <th>4</th>\n",
       "      <td>0</td>\n",
       "      <td>2</td>\n",
       "      <td>70.70</td>\n",
       "      <td>151.65</td>\n",
       "      <td>0</td>\n",
       "      <td>0</td>\n",
       "      <td>0</td>\n",
       "      <td>1</td>\n",
       "      <td>0</td>\n",
       "      <td>0</td>\n",
       "      <td>...</td>\n",
       "      <td>0</td>\n",
       "      <td>0</td>\n",
       "      <td>0</td>\n",
       "      <td>0</td>\n",
       "      <td>0</td>\n",
       "      <td>1</td>\n",
       "      <td>0</td>\n",
       "      <td>1</td>\n",
       "      <td>0</td>\n",
       "      <td>1</td>\n",
       "    </tr>\n",
       "  </tbody>\n",
       "</table>\n",
       "<p>5 rows × 31 columns</p>\n",
       "</div>"
      ],
      "text/plain": [
       "   SeniorCitizen  tenure  MonthlyCharges  TotalCharges  gender_Male  \\\n",
       "0              0       1           29.85         29.85            0   \n",
       "1              0      34           56.95       1889.50            1   \n",
       "2              0       2           53.85        108.15            1   \n",
       "3              0      45           42.30       1840.75            1   \n",
       "4              0       2           70.70        151.65            0   \n",
       "\n",
       "   Partner_Yes  Dependents_Yes  PhoneService_Yes  \\\n",
       "0            1               0                 0   \n",
       "1            0               0                 1   \n",
       "2            0               0                 1   \n",
       "3            0               0                 0   \n",
       "4            0               0                 1   \n",
       "\n",
       "   MultipleLines_No phone service  MultipleLines_Yes  ...  StreamingTV_Yes  \\\n",
       "0                               1                  0  ...                0   \n",
       "1                               0                  0  ...                0   \n",
       "2                               0                  0  ...                0   \n",
       "3                               1                  0  ...                0   \n",
       "4                               0                  0  ...                0   \n",
       "\n",
       "   StreamingMovies_No internet service  StreamingMovies_Yes  \\\n",
       "0                                    0                    0   \n",
       "1                                    0                    0   \n",
       "2                                    0                    0   \n",
       "3                                    0                    0   \n",
       "4                                    0                    0   \n",
       "\n",
       "   Contract_One year  Contract_Two year  PaperlessBilling_Yes  \\\n",
       "0                  0                  0                     1   \n",
       "1                  1                  0                     0   \n",
       "2                  0                  0                     1   \n",
       "3                  1                  0                     0   \n",
       "4                  0                  0                     1   \n",
       "\n",
       "   PaymentMethod_Credit card (automatic)  PaymentMethod_Electronic check  \\\n",
       "0                                      0                               1   \n",
       "1                                      0                               0   \n",
       "2                                      0                               0   \n",
       "3                                      0                               0   \n",
       "4                                      0                               1   \n",
       "\n",
       "   PaymentMethod_Mailed check  Churn_Yes  \n",
       "0                           0          0  \n",
       "1                           1          0  \n",
       "2                           1          1  \n",
       "3                           0          0  \n",
       "4                           0          1  \n",
       "\n",
       "[5 rows x 31 columns]"
      ]
     },
     "execution_count": 6,
     "metadata": {},
     "output_type": "execute_result"
    }
   ],
   "source": [
    "df_dummies = pd.get_dummies(dataset, drop_first=True)\n",
    "df_dummies.head()"
   ]
  },
  {
   "cell_type": "markdown",
   "metadata": {},
   "source": [
    "Corroboramos cuáles son las features del DataFrame y el tipo de datos:"
   ]
  },
  {
   "cell_type": "code",
   "execution_count": 7,
   "metadata": {},
   "outputs": [
    {
     "data": {
      "text/plain": [
       "SeniorCitizen                              int64\n",
       "tenure                                     int64\n",
       "MonthlyCharges                           float64\n",
       "TotalCharges                             float64\n",
       "gender_Male                                uint8\n",
       "Partner_Yes                                uint8\n",
       "Dependents_Yes                             uint8\n",
       "PhoneService_Yes                           uint8\n",
       "MultipleLines_No phone service             uint8\n",
       "MultipleLines_Yes                          uint8\n",
       "InternetService_Fiber optic                uint8\n",
       "InternetService_No                         uint8\n",
       "OnlineSecurity_No internet service         uint8\n",
       "OnlineSecurity_Yes                         uint8\n",
       "OnlineBackup_No internet service           uint8\n",
       "OnlineBackup_Yes                           uint8\n",
       "DeviceProtection_No internet service       uint8\n",
       "DeviceProtection_Yes                       uint8\n",
       "TechSupport_No internet service            uint8\n",
       "TechSupport_Yes                            uint8\n",
       "StreamingTV_No internet service            uint8\n",
       "StreamingTV_Yes                            uint8\n",
       "StreamingMovies_No internet service        uint8\n",
       "StreamingMovies_Yes                        uint8\n",
       "Contract_One year                          uint8\n",
       "Contract_Two year                          uint8\n",
       "PaperlessBilling_Yes                       uint8\n",
       "PaymentMethod_Credit card (automatic)      uint8\n",
       "PaymentMethod_Electronic check             uint8\n",
       "PaymentMethod_Mailed check                 uint8\n",
       "Churn_Yes                                  uint8\n",
       "dtype: object"
      ]
     },
     "execution_count": 7,
     "metadata": {},
     "output_type": "execute_result"
    }
   ],
   "source": [
    "df_dummies.dtypes"
   ]
  },
  {
   "cell_type": "markdown",
   "metadata": {},
   "source": [
    "Creamos nuestra matriz de *features* y nuestro vector *target*:"
   ]
  },
  {
   "cell_type": "code",
   "execution_count": 8,
   "metadata": {},
   "outputs": [],
   "source": [
    "y = df_dummies['Churn_Yes']\n",
    "X = df_dummies.drop(columns = ['Churn_Yes'])"
   ]
  },
  {
   "cell_type": "code",
   "execution_count": 9,
   "metadata": {},
   "outputs": [
    {
     "name": "stdout",
     "output_type": "stream",
     "text": [
      "Shape X: (7043, 30)\n",
      "Type X: <class 'pandas.core.frame.DataFrame'>\n",
      "Shape y: (7043,)\n",
      "Type y: <class 'pandas.core.series.Series'>\n"
     ]
    }
   ],
   "source": [
    "# Verificamos los shapes y los tipos de X e y:\n",
    "print(\"Shape X:\", X.shape)\n",
    "print(\"Type X:\", type(X))\n",
    "print(\"Shape y:\", y.shape)\n",
    "print(\"Type y:\", type(y))"
   ]
  },
  {
   "cell_type": "markdown",
   "metadata": {},
   "source": [
    "Hacemos el split entre train y test sets."
   ]
  },
  {
   "cell_type": "code",
   "execution_count": 10,
   "metadata": {},
   "outputs": [],
   "source": [
    "from sklearn.model_selection import train_test_split\n",
    "\n",
    "rs=15\n",
    "\n",
    "X_train, X_test, y_train, y_test = \\\n",
    "                    train_test_split(X, y, stratify=y, test_size=0.25, random_state=rs)"
   ]
  },
  {
   "cell_type": "markdown",
   "metadata": {},
   "source": [
    "Corroboramos los `shapes` de las matrices:"
   ]
  },
  {
   "cell_type": "code",
   "execution_count": 11,
   "metadata": {},
   "outputs": [
    {
     "name": "stdout",
     "output_type": "stream",
     "text": [
      "X_train.shape:  (5282, 30)\n",
      "y_train.shape:  (5282,)\n",
      "X_test.shape:  (1761, 30)\n",
      "y_test.shape:  (1761,)\n"
     ]
    }
   ],
   "source": [
    "print('X_train.shape: ', X_train.shape)\n",
    "print('y_train.shape: ', y_train.shape)\n",
    "print('X_test.shape: ', X_test.shape)\n",
    "print('y_test.shape: ', y_test.shape)"
   ]
  },
  {
   "cell_type": "markdown",
   "metadata": {},
   "source": [
    "Corroboramos que el set de entrenamiento y de testeo tengan el mimsmo % de observacione por clase. Esto se logra pasando el argumento `stratify=y` en `train_test_split`."
   ]
  },
  {
   "cell_type": "code",
   "execution_count": 12,
   "metadata": {},
   "outputs": [
    {
     "name": "stdout",
     "output_type": "stream",
     "text": [
      "y: [0.73463013 0.26536987]\n",
      "y train: [0.73457024 0.26542976]\n",
      "y test: [0.73480977 0.26519023]\n"
     ]
    }
   ],
   "source": [
    "print('y:', y.value_counts(normalize=True).values)\n",
    "\n",
    "print('y train:', y_train.value_counts(normalize=True).values)\n",
    "\n",
    "print('y test:', y_test.value_counts(normalize=True).values)"
   ]
  },
  {
   "cell_type": "markdown",
   "metadata": {},
   "source": [
    "##### Estandarización\n",
    "\n",
    "La implementación de `Sklearn` incorpora por dafault en la función de costo un término de regularización. Por default, se implementa la penalidad *L2*, es decir la misma de la regresión Ridge. Otro punto a tener en cuenta es que en la regresión logística, el hiperparámetro $\\alpha$ es reemplazado por el hiperparámetro $C$, que cumple la misma funcionalidad, pero que es el inverso de $\\alpha$, es decir que a menor $C$, más regularización y valores de los parámetros más chicos.  \n"
   ]
  },
  {
   "cell_type": "code",
   "execution_count": 13,
   "metadata": {},
   "outputs": [],
   "source": [
    "from sklearn.preprocessing import MinMaxScaler, StandardScaler\n",
    "\n",
    "scaler = StandardScaler()\n",
    "\n",
    "X_train = pd.DataFrame(scaler.fit_transform(X_train), index=X_train.index, \\\n",
    "                           columns= X_train.columns)\n",
    "\n",
    "X_test = pd.DataFrame(scaler.transform(X_test), index=X_test.index, \\\n",
    "                           columns= X_test.columns)"
   ]
  },
  {
   "cell_type": "markdown",
   "metadata": {},
   "source": [
    "### 3) Clasificación con Regresión Logística\n",
    "\n",
    "En Scikit-Learn encontramos la implementación de la regresión logística en el módulo de modelos lineales, con en la clase `LogisticRegression`. \n",
    "\n",
    "Importemos la clase de la regresión logistica:"
   ]
  },
  {
   "cell_type": "code",
   "execution_count": 14,
   "metadata": {},
   "outputs": [],
   "source": [
    "from sklearn.linear_model import LogisticRegression"
   ]
  },
  {
   "cell_type": "code",
   "execution_count": 15,
   "metadata": {},
   "outputs": [
    {
     "name": "stdout",
     "output_type": "stream",
     "text": [
      "[{'solver': ['lbfgs', 'liblinear', 'newton-cg', 'sag'], 'penalty': ['l2'], 'C': [0.1, 1, 10, 20, 30]}, {'solver': ['liblinear'], 'penalty': ['l1'], 'C': [0.01, 0.05, 0.075, 0.1, 1, 0.25, 0.75]}]\n"
     ]
    }
   ],
   "source": [
    "from sklearn.model_selection import GridSearchCV\n",
    "\n",
    "lor_reg_opt = LogisticRegression(max_iter=10000)\n",
    "\n",
    "# Definimos el espacio de búsqueda de hiperparámetros con un diccionario:\n",
    "param_grid = [{'solver': ['lbfgs', 'liblinear','newton-cg', 'sag'], 'penalty': ['l2'], 'C':[0.1, 1, 10, 20, 30]},\n",
    "              {'solver': ['liblinear'], 'penalty':[ 'l1'], 'C':[0.01, 0.05, 0.075, 0.1, 1, 0.25, 0.75]}]\n",
    "\n",
    "print(param_grid)"
   ]
  },
  {
   "cell_type": "markdown",
   "metadata": {},
   "source": [
    "Definimos la estrategia de validación cruzada. \n",
    "\n",
    "En este caso, en lugar de pasarle directamente a Gridsearch el valor de la cantidad de particiones, le vamos a pasar un objeto de la clase [StratifiedKFold](https://scikit-learn.org/stable/modules/generated/sklearn.model_selection.StratifiedKFold.html) que genera sets de testeo con distribuciones de clase iguales o lo más similares posibles. "
   ]
  },
  {
   "cell_type": "code",
   "execution_count": 16,
   "metadata": {},
   "outputs": [],
   "source": [
    "from sklearn.model_selection import StratifiedKFold\n",
    "\n",
    "skf = StratifiedKFold(n_splits=5, shuffle=True, random_state=12)"
   ]
  },
  {
   "cell_type": "code",
   "execution_count": 17,
   "metadata": {},
   "outputs": [
    {
     "name": "stdout",
     "output_type": "stream",
     "text": [
      "Fitting 5 folds for each of 27 candidates, totalling 135 fits\n"
     ]
    },
    {
     "data": {
      "text/html": [
       "<style>#sk-container-id-1 {color: black;background-color: white;}#sk-container-id-1 pre{padding: 0;}#sk-container-id-1 div.sk-toggleable {background-color: white;}#sk-container-id-1 label.sk-toggleable__label {cursor: pointer;display: block;width: 100%;margin-bottom: 0;padding: 0.3em;box-sizing: border-box;text-align: center;}#sk-container-id-1 label.sk-toggleable__label-arrow:before {content: \"▸\";float: left;margin-right: 0.25em;color: #696969;}#sk-container-id-1 label.sk-toggleable__label-arrow:hover:before {color: black;}#sk-container-id-1 div.sk-estimator:hover label.sk-toggleable__label-arrow:before {color: black;}#sk-container-id-1 div.sk-toggleable__content {max-height: 0;max-width: 0;overflow: hidden;text-align: left;background-color: #f0f8ff;}#sk-container-id-1 div.sk-toggleable__content pre {margin: 0.2em;color: black;border-radius: 0.25em;background-color: #f0f8ff;}#sk-container-id-1 input.sk-toggleable__control:checked~div.sk-toggleable__content {max-height: 200px;max-width: 100%;overflow: auto;}#sk-container-id-1 input.sk-toggleable__control:checked~label.sk-toggleable__label-arrow:before {content: \"▾\";}#sk-container-id-1 div.sk-estimator input.sk-toggleable__control:checked~label.sk-toggleable__label {background-color: #d4ebff;}#sk-container-id-1 div.sk-label input.sk-toggleable__control:checked~label.sk-toggleable__label {background-color: #d4ebff;}#sk-container-id-1 input.sk-hidden--visually {border: 0;clip: rect(1px 1px 1px 1px);clip: rect(1px, 1px, 1px, 1px);height: 1px;margin: -1px;overflow: hidden;padding: 0;position: absolute;width: 1px;}#sk-container-id-1 div.sk-estimator {font-family: monospace;background-color: #f0f8ff;border: 1px dotted black;border-radius: 0.25em;box-sizing: border-box;margin-bottom: 0.5em;}#sk-container-id-1 div.sk-estimator:hover {background-color: #d4ebff;}#sk-container-id-1 div.sk-parallel-item::after {content: \"\";width: 100%;border-bottom: 1px solid gray;flex-grow: 1;}#sk-container-id-1 div.sk-label:hover label.sk-toggleable__label {background-color: #d4ebff;}#sk-container-id-1 div.sk-serial::before {content: \"\";position: absolute;border-left: 1px solid gray;box-sizing: border-box;top: 0;bottom: 0;left: 50%;z-index: 0;}#sk-container-id-1 div.sk-serial {display: flex;flex-direction: column;align-items: center;background-color: white;padding-right: 0.2em;padding-left: 0.2em;position: relative;}#sk-container-id-1 div.sk-item {position: relative;z-index: 1;}#sk-container-id-1 div.sk-parallel {display: flex;align-items: stretch;justify-content: center;background-color: white;position: relative;}#sk-container-id-1 div.sk-item::before, #sk-container-id-1 div.sk-parallel-item::before {content: \"\";position: absolute;border-left: 1px solid gray;box-sizing: border-box;top: 0;bottom: 0;left: 50%;z-index: -1;}#sk-container-id-1 div.sk-parallel-item {display: flex;flex-direction: column;z-index: 1;position: relative;background-color: white;}#sk-container-id-1 div.sk-parallel-item:first-child::after {align-self: flex-end;width: 50%;}#sk-container-id-1 div.sk-parallel-item:last-child::after {align-self: flex-start;width: 50%;}#sk-container-id-1 div.sk-parallel-item:only-child::after {width: 0;}#sk-container-id-1 div.sk-dashed-wrapped {border: 1px dashed gray;margin: 0 0.4em 0.5em 0.4em;box-sizing: border-box;padding-bottom: 0.4em;background-color: white;}#sk-container-id-1 div.sk-label label {font-family: monospace;font-weight: bold;display: inline-block;line-height: 1.2em;}#sk-container-id-1 div.sk-label-container {text-align: center;}#sk-container-id-1 div.sk-container {/* jupyter's `normalize.less` sets `[hidden] { display: none; }` but bootstrap.min.css set `[hidden] { display: none !important; }` so we also need the `!important` here to be able to override the default hidden behavior on the sphinx rendered scikit-learn.org. See: https://github.com/scikit-learn/scikit-learn/issues/21755 */display: inline-block !important;position: relative;}#sk-container-id-1 div.sk-text-repr-fallback {display: none;}</style><div id=\"sk-container-id-1\" class=\"sk-top-container\"><div class=\"sk-text-repr-fallback\"><pre>GridSearchCV(cv=StratifiedKFold(n_splits=5, random_state=12, shuffle=True),\n",
       "             estimator=LogisticRegression(max_iter=10000), n_jobs=-1,\n",
       "             param_grid=[{&#x27;C&#x27;: [0.1, 1, 10, 20, 30], &#x27;penalty&#x27;: [&#x27;l2&#x27;],\n",
       "                          &#x27;solver&#x27;: [&#x27;lbfgs&#x27;, &#x27;liblinear&#x27;, &#x27;newton-cg&#x27;, &#x27;sag&#x27;]},\n",
       "                         {&#x27;C&#x27;: [0.01, 0.05, 0.075, 0.1, 1, 0.25, 0.75],\n",
       "                          &#x27;penalty&#x27;: [&#x27;l1&#x27;], &#x27;solver&#x27;: [&#x27;liblinear&#x27;]}],\n",
       "             verbose=1)</pre><b>In a Jupyter environment, please rerun this cell to show the HTML representation or trust the notebook. <br />On GitHub, the HTML representation is unable to render, please try loading this page with nbviewer.org.</b></div><div class=\"sk-container\" hidden><div class=\"sk-item sk-dashed-wrapped\"><div class=\"sk-label-container\"><div class=\"sk-label sk-toggleable\"><input class=\"sk-toggleable__control sk-hidden--visually\" id=\"sk-estimator-id-1\" type=\"checkbox\" ><label for=\"sk-estimator-id-1\" class=\"sk-toggleable__label sk-toggleable__label-arrow\">GridSearchCV</label><div class=\"sk-toggleable__content\"><pre>GridSearchCV(cv=StratifiedKFold(n_splits=5, random_state=12, shuffle=True),\n",
       "             estimator=LogisticRegression(max_iter=10000), n_jobs=-1,\n",
       "             param_grid=[{&#x27;C&#x27;: [0.1, 1, 10, 20, 30], &#x27;penalty&#x27;: [&#x27;l2&#x27;],\n",
       "                          &#x27;solver&#x27;: [&#x27;lbfgs&#x27;, &#x27;liblinear&#x27;, &#x27;newton-cg&#x27;, &#x27;sag&#x27;]},\n",
       "                         {&#x27;C&#x27;: [0.01, 0.05, 0.075, 0.1, 1, 0.25, 0.75],\n",
       "                          &#x27;penalty&#x27;: [&#x27;l1&#x27;], &#x27;solver&#x27;: [&#x27;liblinear&#x27;]}],\n",
       "             verbose=1)</pre></div></div></div><div class=\"sk-parallel\"><div class=\"sk-parallel-item\"><div class=\"sk-item\"><div class=\"sk-label-container\"><div class=\"sk-label sk-toggleable\"><input class=\"sk-toggleable__control sk-hidden--visually\" id=\"sk-estimator-id-2\" type=\"checkbox\" ><label for=\"sk-estimator-id-2\" class=\"sk-toggleable__label sk-toggleable__label-arrow\">estimator: LogisticRegression</label><div class=\"sk-toggleable__content\"><pre>LogisticRegression(max_iter=10000)</pre></div></div></div><div class=\"sk-serial\"><div class=\"sk-item\"><div class=\"sk-estimator sk-toggleable\"><input class=\"sk-toggleable__control sk-hidden--visually\" id=\"sk-estimator-id-3\" type=\"checkbox\" ><label for=\"sk-estimator-id-3\" class=\"sk-toggleable__label sk-toggleable__label-arrow\">LogisticRegression</label><div class=\"sk-toggleable__content\"><pre>LogisticRegression(max_iter=10000)</pre></div></div></div></div></div></div></div></div></div></div>"
      ],
      "text/plain": [
       "GridSearchCV(cv=StratifiedKFold(n_splits=5, random_state=12, shuffle=True),\n",
       "             estimator=LogisticRegression(max_iter=10000), n_jobs=-1,\n",
       "             param_grid=[{'C': [0.1, 1, 10, 20, 30], 'penalty': ['l2'],\n",
       "                          'solver': ['lbfgs', 'liblinear', 'newton-cg', 'sag']},\n",
       "                         {'C': [0.01, 0.05, 0.075, 0.1, 1, 0.25, 0.75],\n",
       "                          'penalty': ['l1'], 'solver': ['liblinear']}],\n",
       "             verbose=1)"
      ]
     },
     "execution_count": 17,
     "metadata": {},
     "output_type": "execute_result"
    }
   ],
   "source": [
    "grid = GridSearchCV(lor_reg_opt, param_grid, cv=skf, n_jobs=-1, verbose=1)\n",
    "grid.fit(X_train, y_train)"
   ]
  },
  {
   "cell_type": "code",
   "execution_count": 18,
   "metadata": {},
   "outputs": [
    {
     "name": "stdout",
     "output_type": "stream",
     "text": [
      "LogisticRegression(C=0.05, max_iter=10000, penalty='l1', solver='liblinear')\n",
      "0.8057522361744216\n",
      "{'C': 0.05, 'penalty': 'l1', 'solver': 'liblinear'}\n"
     ]
    }
   ],
   "source": [
    "print(grid.best_estimator_)\n",
    "print(grid.best_score_)\n",
    "print(grid.best_params_)"
   ]
  },
  {
   "cell_type": "markdown",
   "metadata": {},
   "source": [
    "### 4) Evaluación de modelos de clasificación\n",
    "\n",
    "\n",
    "#### 4.1) Matriz de confusión\n",
    "\n",
    "Una de las formas más completas de representar el resultado de la evaluación de la clasificación binaria es utilizando matrices de confusión. \n",
    "\n",
    "Una matriz de confusión es una matriz de 2x2, donde las filas corresponden a las clases verdaderas y las columnas a las clases predichas.\n",
    "\n",
    "<img src=\"img/matrizconfusion.png\" width=\"400\">\n",
    "\n",
    "<div class='epigraph' align=\"center\"><i>         Matriz de Confusión</i></div><br>\n",
    "\n",
    "Donde:\n",
    "\n",
    "- **TN** = True Negative: es una clase negativa que ha sido correctamente clasificada como tal. \n",
    "- **FP** = False Positive: es una clase negativa que fue erroneamente clasificada como positiva.\n",
    "- **FN** = False Negative: es una clase positiva que fue erroneamente clasificada como negativa.\n",
    "- **TP** = True Positive: es una clase positiva que ha sido correctamente clasificada como tal.\n"
   ]
  },
  {
   "cell_type": "code",
   "execution_count": 29,
   "metadata": {},
   "outputs": [
    {
     "data": {
      "image/png": "[encoded data removed]",
      "text/plain": [
       "<Figure size 432x288 with 2 Axes>"
      ]
     },
     "metadata": {},
     "output_type": "display_data"
    }
   ],
   "source": [
    "# Elaboramos la matriz de confusión\n",
    "from sklearn.metrics import confusion_matrix\n",
    "\n",
    "y_pred_train = grid.predict(X_train)\n",
    "y_pred_test = grid.predict(X_test)\n",
    "\n",
    "sns.heatmap(confusion_matrix(y_test, y_pred_test, normalize=\"pred\"), annot=True, cmap=\"Blues\")\n",
    "plt.ylabel('Verdaderos')\n",
    "plt.xlabel('Predichos');"
   ]
  },
  {
   "cell_type": "code",
   "execution_count": 28,
   "metadata": {},
   "outputs": [],
   "source": [
    "from sklearn.metrics import recall_score, precision_score"
   ]
  },
  {
   "cell_type": "code",
   "execution_count": 27,
   "metadata": {},
   "outputs": [
    {
     "data": {
      "text/plain": [
       "0.5032119914346895"
      ]
     },
     "execution_count": 27,
     "metadata": {},
     "output_type": "execute_result"
    }
   ],
   "source": [
    "recall_score(y_test, y_pred_test)"
   ]
  },
  {
   "cell_type": "code",
   "execution_count": 30,
   "metadata": {},
   "outputs": [
    {
     "data": {
      "text/plain": [
       "0.6619718309859155"
      ]
     },
     "execution_count": 30,
     "metadata": {},
     "output_type": "execute_result"
    }
   ],
   "source": [
    "precision_score(y_test, y_pred_test)"
   ]
  },
  {
   "cell_type": "markdown",
   "metadata": {},
   "source": [
    "Como podemos observar en la matriz de confunsión, a pesar de acertar en la mayoría de las observaciones, el modelo registra una importante cantidad de FN y también de FP. \n",
    "\n",
    "Veamos como impacta esto en las diferentes métricas de performance. "
   ]
  },
  {
   "cell_type": "markdown",
   "metadata": {},
   "source": [
    "#### 4.2) Accuracy \n",
    "\n",
    "El `accuracy` se calcula de la siguiente manera:\n",
    "\n",
    "\n",
    "<img src=\"img/acc.png\" width=\"400\">\n",
    "\n",
    "En otras palabras, el `accuracy` es el número de predicciones correctas (TP y TN) dividido por el número de todas las muestras (todas las entradas de la matriz de confusión sumadas). \n",
    "\n",
    "Un fenómeno que puede afectar la utilidad de el `accuracy` es la presencia de clases desbalanceadas, es decir los casos en los que una clase tiene muchas más observaciones que la otra. Muchos problemas son, de hecho, problemas con clases desbalanceadas. La detección de cáncer o la predicción de clicks en adds son ejemplos de esto. Imaginemos que tenemos un problema donde una clase representa el 99% de las observaciones y la otra el 1%. Un modelo que prediga siempre a la clase mayoritaria, obtendría un `accuracy` de 99% y sin embargo sería un modelo que no nos sirve para nada. \n",
    "\n",
    "También puede suceder que no nos sea indiferente qué tipo de errores cometemos. Es decir, el costo, o las consecuencias de comenter un FP o un FN, pueden no ser iguales. Imaginemos el caso de detección de cáncer. Las consecuencias de un FP será la necesidad de realizar de nuevo el test y darle un susto innecesario al paciente. Ciertamente no es algo bueno, pero es infinitamente menos grave que un FN donde no detectamos un positivo y perdemos la oportunidad de comenzar un tratamiento a tiempo. En este caso vamos a querer minimizar los FN, tal vez aceptando una mayor cantidad de FP. "
   ]
  },
  {
   "cell_type": "markdown",
   "metadata": {},
   "source": [
    "Calculemos el accuracy del modelo: "
   ]
  },
  {
   "cell_type": "code",
   "execution_count": 31,
   "metadata": {},
   "outputs": [
    {
     "name": "stdout",
     "output_type": "stream",
     "text": [
      "Accuracy train set: 0.8063\n",
      "Accuracy test set: 0.8001\n"
     ]
    }
   ],
   "source": [
    "from sklearn.metrics import accuracy_score\n",
    "\n",
    "print ('Accuracy train set:', accuracy_score(y_train,y_pred_train).round(4))\n",
    "print ('Accuracy test set:', accuracy_score(y_test,y_pred_test).round(4))"
   ]
  },
  {
   "cell_type": "markdown",
   "metadata": {},
   "source": [
    "Recordemos cuál es la distribución de las clases:"
   ]
  },
  {
   "cell_type": "code",
   "execution_count": 32,
   "metadata": {},
   "outputs": [
    {
     "data": {
      "image/png": "[encoded data removed]",
      "text/plain": [
       "<Figure size 432x288 with 1 Axes>"
      ]
     },
     "metadata": {},
     "output_type": "display_data"
    }
   ],
   "source": [
    "colors = ['#1f77b4','#C0C0C0']\n",
    "ax = (dataset['Churn'].value_counts()*100.0 /len(dataset)).plot(kind='bar',\n",
    "                                                                           stacked = True,\n",
    "                                                                          rot = 0,\n",
    "                                                                          color = colors,\n",
    "                                                                         figsize = (6,4))\n",
    "ax.yaxis.set_major_formatter(mtick.PercentFormatter())\n",
    "ax.set_ylabel('% Customers',size = 14)\n",
    "ax.set_xlabel('Churn',size = 14)\n",
    "ax.set_title('Churn Rate', size = 14)\n",
    "\n",
    "# creamos una lista para recolectar los datos del plt.patches\n",
    "totals = []\n",
    "\n",
    "# encontramos los valores y los appendeamos a la lista\n",
    "for i in ax.patches:\n",
    "    totals.append(i.get_width())\n",
    "\n",
    "# creamos etiquetas para cada barra\n",
    "total = sum(totals)\n",
    "\n",
    "for i in ax.patches:\n",
    "    ax.text(i.get_x()+.15, i.get_height()-6.0, \\\n",
    "            str(round((i.get_height()/total), 1))+'%',\n",
    "            fontsize=12,\n",
    "            color='white',\n",
    "            weight = 'bold',)"
   ]
  },
  {
   "cell_type": "markdown",
   "metadata": {},
   "source": [
    "Tenemos un accuracy de casi el 80% en el set de testeo. Este hecho debe sin embargo relativizarse dado que tenemos clases desbalanceadas. \n",
    "\n",
    "Dado que tenemos clases desbalanceadas, el accuracy no es una métrica confiable. Para eso entonces, vamos a ver a continuación otras métricas que nos van a informar mejor de cómo está funcionando este modelo."
   ]
  },
  {
   "cell_type": "markdown",
   "metadata": {},
   "source": [
    "#### 4.3)  Precision\n",
    "\n",
    "El `precision` se calcula de la siguiente manera:\n",
    "\n",
    "\n",
    "<img src=\"img/prec.png\" width=\"300\">\n",
    "\n",
    "El `precision` se utiliza como una medida de rendimiento cuando el objetivo es limitar el número de falsos positivos."
   ]
  },
  {
   "cell_type": "code",
   "execution_count": 33,
   "metadata": {},
   "outputs": [
    {
     "name": "stdout",
     "output_type": "stream",
     "text": [
      "Precision train set: 0.6632\n",
      "Precision test set: 0.662\n"
     ]
    }
   ],
   "source": [
    "from sklearn.metrics import precision_score\n",
    "\n",
    "print ('Precision train set:', precision_score(y_train,y_pred_train).round(4))\n",
    "print ('Precision test set:', precision_score(y_test,y_pred_test).round(4))"
   ]
  },
  {
   "cell_type": "markdown",
   "metadata": {},
   "source": [
    "Esto quiere decir que, del total de clientes que el modelo predice que dejarán la compañía, un 65,83% de ellos realmente lo hace."
   ]
  },
  {
   "cell_type": "markdown",
   "metadata": {},
   "source": [
    "#### 4.4)  Recall\n",
    "\n",
    "El `recall` se calcula de la siguiente manera:\n",
    "\n",
    "\n",
    "<img src=\"img/recall.png\" width=\"280\">\n",
    "\n",
    "El `recall` se utiliza como una medida de rendimiento cuando el objetivo es limitar el número de falsos negativos.\n"
   ]
  },
  {
   "cell_type": "code",
   "execution_count": 34,
   "metadata": {},
   "outputs": [
    {
     "name": "stdout",
     "output_type": "stream",
     "text": [
      "Recall train set: 0.5492\n",
      "Recall test set: 0.5032\n"
     ]
    }
   ],
   "source": [
    "from sklearn.metrics import recall_score\n",
    "\n",
    "print ('Recall train set:', recall_score(y_train,y_pred_train).round(4))\n",
    "print ('Recall test set:', recall_score(y_test,y_pred_test).round(4))"
   ]
  },
  {
   "cell_type": "markdown",
   "metadata": {},
   "source": [
    "Esto quiere decir que del total de clientes que dejan la compañía, solamente la mitad es detectada por nuestro modelo."
   ]
  },
  {
   "cell_type": "markdown",
   "metadata": {},
   "source": [
    "#### 3.4) F1-score\n",
    "\n",
    "El `F1-score` es la media armónica entre `precision` y `recall`:\n",
    "\n",
    "\n",
    "<img src=\"img/f1.png\" width=\"350\">\n",
    "\n",
    "\n",
    "La ventaja de usar la media armónica, en lugar de la media aritmética), es que para tener un `f1-score` alto, es necesario que tanto el `recall` como la `precision` sean altas, mientras que un `f1-score` bajo puede ser el resultado de un valor bajo en por lo menos una de estas métricas o en ambas a la vez:\n",
    "\n",
    "Es un promedio armónico entre precision y recall.\n",
    "<img src=\"img/f1_2.png\" width=\"500\">\n"
   ]
  },
  {
   "cell_type": "code",
   "execution_count": 35,
   "metadata": {},
   "outputs": [
    {
     "name": "stdout",
     "output_type": "stream",
     "text": [
      "F1-score train set: 0.6009\n",
      "F1-score test set: 0.5718\n"
     ]
    }
   ],
   "source": [
    "from sklearn.metrics import f1_score\n",
    "\n",
    "print ('F1-score train set:', f1_score(y_train,y_pred_train).round(4))\n",
    "print ('F1-score test set:', f1_score(y_test,y_pred_test).round(4))"
   ]
  },
  {
   "cell_type": "markdown",
   "metadata": {},
   "source": [
    "El módulo `sklearn.metrics`de `Sklearn` tiene implementada una función con un reporte de clasificación. Apliquémoslo a nuestra regresión logística:"
   ]
  },
  {
   "cell_type": "code",
   "execution_count": 36,
   "metadata": {},
   "outputs": [
    {
     "name": "stdout",
     "output_type": "stream",
     "text": [
      "              precision    recall  f1-score   support\n",
      "\n",
      "           0       0.83      0.91      0.87      1294\n",
      "           1       0.66      0.50      0.57       467\n",
      "\n",
      "    accuracy                           0.80      1761\n",
      "   macro avg       0.75      0.71      0.72      1761\n",
      "weighted avg       0.79      0.80      0.79      1761\n",
      "\n"
     ]
    }
   ],
   "source": [
    "from sklearn.metrics import classification_report\n",
    "\n",
    "print(classification_report(y_test,y_pred_test))"
   ]
  },
  {
   "cell_type": "markdown",
   "metadata": {},
   "source": [
    "### 5) Umbrales de decisión\n",
    "\n",
    "Cuando presentamos a las diferentes métricas, mencionamos que para algunos modelos, podía ser mucho más grave cometer un FN que un FP. Recordemos el caso de test médicos. En ese caso, tal vez estemos dispuestos a aceptar un mayor % de FP con el fin de reducir los  FN. \n",
    "\n",
    "¿Qué podemos hacer para modificar la forma en la que el modelo realiza su predicción?\n",
    "\n",
    "Cuando aplicamos el método `predict()`, `sklearn` realiza la predicción de la clase de $y$ eligiendo para cada clase la mayor probabilidad de este array. Es decir, el umbral que usa el modelo para definir si la observación pertenece o no a la clase 1 es 50%. \n",
    "\n",
    "Para modificar la forma en la que el modelo realiza la predicción, tenemos que modificar el umbral o `threshold` que el modelo utiliza para realizar la clasificación. \n",
    "\n",
    "Con el método `predict_proba()` obtenemos la probabilidad de ocurrencia que el modelo asigna a cada clase. \n",
    "\n",
    "Observemos los resultados para la regresión logística."
   ]
  },
  {
   "cell_type": "code",
   "execution_count": 37,
   "metadata": {},
   "outputs": [
    {
     "data": {
      "text/plain": [
       "array([[0.80660419, 0.19339581],\n",
       "       [0.70296292, 0.29703708],\n",
       "       [0.87483725, 0.12516275],\n",
       "       [0.89428807, 0.10571193],\n",
       "       [0.99045689, 0.00954311]])"
      ]
     },
     "execution_count": 37,
     "metadata": {},
     "output_type": "execute_result"
    }
   ],
   "source": [
    "grid.predict_proba(X_test)[:5]"
   ]
  },
  {
   "cell_type": "markdown",
   "metadata": {},
   "source": [
    "Vemos que el método `predict_proba()` nos devuelve una array en el cual aparecen dos probabilidades de cada instancia del test set: $P(y=0)$ y $P(y=1)$.\n",
    "\n",
    "Calculamos las probabilidades:"
   ]
  },
  {
   "cell_type": "code",
   "execution_count": 38,
   "metadata": {},
   "outputs": [],
   "source": [
    "y_proba_train = grid.predict_proba(X_train)\n",
    "y_proba_test = grid.predict_proba(X_test) "
   ]
  },
  {
   "cell_type": "markdown",
   "metadata": {},
   "source": [
    "Veamos cómo están distribuidas las probabilidades calculadas para la $y=1$:"
   ]
  },
  {
   "cell_type": "code",
   "execution_count": 39,
   "metadata": {},
   "outputs": [
    {
     "name": "stderr",
     "output_type": "stream",
     "text": [
      "/home/ari/miniconda3/envs/itba/lib/python3.10/site-packages/seaborn/distributions.py:2619: FutureWarning: `distplot` is a deprecated function and will be removed in a future version. Please adapt your code to use either `displot` (a figure-level function with similar flexibility) or `histplot` (an axes-level function for histograms).\n",
      "  warnings.warn(msg, FutureWarning)\n"
     ]
    },
    {
     "data": {
      "image/png": "[encoded data removed]",
      "text/plain": [
       "<Figure size 432x288 with 1 Axes>"
      ]
     },
     "metadata": {},
     "output_type": "display_data"
    }
   ],
   "source": [
    "sns.distplot(y_proba_train[:,1], bins=20)\n",
    "\n",
    "plt.xlim(0,1)\n",
    "plt.title('Histograma de probabilidades estimadas')\n",
    "plt.xlabel('Probabilidad estimada de churn positivo')\n",
    "plt.ylabel('Frecuencia')\n",
    "plt.show()"
   ]
  },
  {
   "cell_type": "markdown",
   "metadata": {},
   "source": [
    "Si queremos tener menos FN, vamos a tener que bajar el umbral, es decir que el modelo prediga $y=1$ desde una $P(y=1)$ menor, que sea más sensible.  \n",
    "\n",
    "Definamos un nuevo umbral y generemos un nuevo array de predicciones:"
   ]
  },
  {
   "cell_type": "code",
   "execution_count": 40,
   "metadata": {},
   "outputs": [],
   "source": [
    "# Definimos un umbral de 35%:\n",
    "thr = 0.35\n",
    "\n",
    "y_train_pred_thr = (y_proba_train[:,1] > thr).astype(int)\n",
    "y_test_pred_thr = (y_proba_test[:,1] > thr).astype(int)"
   ]
  },
  {
   "cell_type": "code",
   "execution_count": 41,
   "metadata": {},
   "outputs": [
    {
     "data": {
      "text/plain": [
       "array([0, 0, 1, ..., 0, 0, 0])"
      ]
     },
     "execution_count": 41,
     "metadata": {},
     "output_type": "execute_result"
    }
   ],
   "source": [
    "y_train_pred_thr"
   ]
  },
  {
   "cell_type": "code",
   "execution_count": 42,
   "metadata": {},
   "outputs": [
    {
     "name": "stdout",
     "output_type": "stream",
     "text": [
      "              precision    recall  f1-score   support\n",
      "\n",
      "           0       0.88      0.80      0.84      1294\n",
      "           1       0.56      0.69      0.62       467\n",
      "\n",
      "    accuracy                           0.77      1761\n",
      "   macro avg       0.72      0.75      0.73      1761\n",
      "weighted avg       0.79      0.77      0.78      1761\n",
      "\n"
     ]
    }
   ],
   "source": [
    "print(classification_report(y_test, y_test_pred_thr))"
   ]
  },
  {
   "cell_type": "code",
   "execution_count": 43,
   "metadata": {},
   "outputs": [
    {
     "data": {
      "image/png": "[encoded data removed]",
      "text/plain": [
       "<Figure size 432x288 with 2 Axes>"
      ]
     },
     "metadata": {},
     "output_type": "display_data"
    }
   ],
   "source": [
    "sns.heatmap(confusion_matrix(y_test, y_test_pred_thr), annot=True, fmt='.0f')\n",
    "plt.ylabel('Verdaderos')\n",
    "plt.xlabel('Predichos');"
   ]
  },
  {
   "cell_type": "markdown",
   "metadata": {},
   "source": [
    "Vemos que los FN bajaron de 232 a 144 que puede apreciarse en la mejoría en el `recall`. Vemos también que esa mejora no fue gratuita, ya que tanto el `precision` como el `accuracy` bajaron."
   ]
  },
  {
   "cell_type": "markdown",
   "metadata": {},
   "source": [
    "### Curva precision-recall"
   ]
  },
  {
   "cell_type": "code",
   "execution_count": 44,
   "metadata": {},
   "outputs": [],
   "source": [
    "from sklearn.metrics import precision_recall_curve\n",
    "\n",
    "precisions, recalls, thresholds = precision_recall_curve(y_train, y_proba_train[:,1])"
   ]
  },
  {
   "cell_type": "code",
   "execution_count": 45,
   "metadata": {},
   "outputs": [
    {
     "data": {
      "image/png": "[encoded data removed]",
      "text/plain": [
       "<Figure size 432x288 with 1 Axes>"
      ]
     },
     "metadata": {},
     "output_type": "display_data"
    }
   ],
   "source": [
    "def plot_precision_recall_vs_threshold(precisions, recalls, thresholds):\n",
    "    plt.plot(thresholds, precisions[:-1], \"b--\", label=\"Precision\")\n",
    "    plt.plot(thresholds, recalls[:-1], \"g-\", label=\"Recall\")\n",
    "    plt.xlabel(\"Threshold\")\n",
    "    plt.legend(loc=\"upper left\")\n",
    "    plt.ylim([0, 1])\n",
    "\n",
    "plot_precision_recall_vs_threshold(precisions, recalls, thresholds)\n",
    "plt.show()"
   ]
  },
  {
   "cell_type": "markdown",
   "metadata": {},
   "source": [
    "¿Por qué se ve que la curva de precision hacia el final presenta oscilaciones mientras que la curva de recall es más suave?\n",
    "\n",
    "Recordemos las fórmulas:\n",
    "\n",
    "<img src=\"img/prec.png\" width=\"300\">\n",
    "\n",
    "<img src=\"img/recall.png\" width=\"280\">\n",
    "\n",
    "Podemos ver que al subir el umbral, la `Precision` tenderá a mejorar por la baja de `FP`, pero también puede pasar que un `TP` se transforme en un `FN`. Por otro lado, en el caso `Recall`, al subir el umbral, los `FN` pueden solamente aumentar."
   ]
  },
  {
   "cell_type": "markdown",
   "metadata": {},
   "source": [
    "Podemos usar esta información para obtener el umbral que maximiza el f1-score:"
   ]
  },
  {
   "cell_type": "code",
   "execution_count": 46,
   "metadata": {},
   "outputs": [],
   "source": [
    "def media_armonica(arr1, arr2):\n",
    "    return 2*(arr1*arr2)/(arr1+arr2)"
   ]
  },
  {
   "cell_type": "code",
   "execution_count": 47,
   "metadata": {},
   "outputs": [],
   "source": [
    "f1_scores = media_armonica(precisions, recalls)"
   ]
  },
  {
   "cell_type": "code",
   "execution_count": 48,
   "metadata": {},
   "outputs": [
    {
     "data": {
      "text/plain": [
       "0.6422764227642276"
      ]
     },
     "execution_count": 48,
     "metadata": {},
     "output_type": "execute_result"
    }
   ],
   "source": [
    "f1_scores.max()"
   ]
  },
  {
   "cell_type": "code",
   "execution_count": 52,
   "metadata": {},
   "outputs": [
    {
     "data": {
      "text/plain": [
       "2570"
      ]
     },
     "execution_count": 52,
     "metadata": {},
     "output_type": "execute_result"
    }
   ],
   "source": [
    "f1_scores.argmax()"
   ]
  },
  {
   "cell_type": "code",
   "execution_count": 53,
   "metadata": {},
   "outputs": [
    {
     "data": {
      "text/plain": [
       "0.29464312084276206"
      ]
     },
     "execution_count": 53,
     "metadata": {},
     "output_type": "execute_result"
    }
   ],
   "source": [
    "thresholds[2570]"
   ]
  },
  {
   "cell_type": "code",
   "execution_count": 55,
   "metadata": {},
   "outputs": [],
   "source": [
    "dicc_f1_th = dict(zip(thresholds, f1_scores[:-1]))"
   ]
  },
  {
   "cell_type": "code",
   "execution_count": 56,
   "metadata": {},
   "outputs": [
    {
     "data": {
      "text/plain": [
       "0.29464312084276206"
      ]
     },
     "execution_count": 56,
     "metadata": {},
     "output_type": "execute_result"
    }
   ],
   "source": [
    "max(dicc_f1_th, key=dicc_f1_th.get)"
   ]
  },
  {
   "cell_type": "code",
   "execution_count": 57,
   "metadata": {},
   "outputs": [
    {
     "data": {
      "image/png": "[encoded data removed]",
      "text/plain": [
       "<Figure size 432x288 with 1 Axes>"
      ]
     },
     "metadata": {},
     "output_type": "display_data"
    }
   ],
   "source": [
    "plt.plot(thresholds, f1_scores[:-1], \"b--\", label=\"F1-score\")\n",
    "plt.axvline(x=max(dicc_f1_th, key=dicc_f1_th.get), color='r', label='optimal threshold')\n",
    "plt.xlabel(\"Threshold\")\n",
    "plt.legend(loc=\"upper right\");"
   ]
  },
  {
   "cell_type": "code",
   "execution_count": 60,
   "metadata": {},
   "outputs": [
    {
     "data": {
      "text/plain": [
       "0.29464312084276206"
      ]
     },
     "execution_count": 60,
     "metadata": {},
     "output_type": "execute_result"
    }
   ],
   "source": [
    "thr"
   ]
  },
  {
   "cell_type": "code",
   "execution_count": 58,
   "metadata": {},
   "outputs": [],
   "source": [
    "thr = max(dicc_f1_th, key=dicc_f1_th.get)\n",
    "\n",
    "y_train_pred_thr = (y_proba_train[:,1] > thr).astype(int)\n",
    "y_test_pred_thr = (y_proba_test[:,1] > thr).astype(int)"
   ]
  },
  {
   "cell_type": "code",
   "execution_count": 59,
   "metadata": {},
   "outputs": [
    {
     "name": "stdout",
     "output_type": "stream",
     "text": [
      "              precision    recall  f1-score   support\n",
      "\n",
      "           0       0.91      0.76      0.83      3880\n",
      "           1       0.54      0.79      0.64      1402\n",
      "\n",
      "    accuracy                           0.77      5282\n",
      "   macro avg       0.72      0.77      0.73      5282\n",
      "weighted avg       0.81      0.77      0.78      5282\n",
      "\n"
     ]
    }
   ],
   "source": [
    "print(classification_report(y_train, y_train_pred_thr))"
   ]
  },
  {
   "cell_type": "code",
   "execution_count": 61,
   "metadata": {},
   "outputs": [
    {
     "name": "stdout",
     "output_type": "stream",
     "text": [
      "              precision    recall  f1-score   support\n",
      "\n",
      "           0       0.90      0.76      0.82      1294\n",
      "           1       0.53      0.76      0.63       467\n",
      "\n",
      "    accuracy                           0.76      1761\n",
      "   macro avg       0.71      0.76      0.72      1761\n",
      "weighted avg       0.80      0.76      0.77      1761\n",
      "\n"
     ]
    }
   ],
   "source": [
    "print(classification_report(y_test, y_test_pred_thr))"
   ]
  },
  {
   "cell_type": "markdown",
   "metadata": {},
   "source": [
    "### 6) Curva ROC y AUC\n",
    "\n",
    "Recordemos que la `curva ROC` nos permite evaluar la performance de un modelo para distintos `umbrales de decisión`, pudiendo evaluar el trade-off entre `precision` y `recall`.\n",
    "\n",
    "Vamos a aplicar la implementación de sklearn de la curva ROC y del AUC."
   ]
  },
  {
   "cell_type": "code",
   "execution_count": 62,
   "metadata": {},
   "outputs": [],
   "source": [
    "from sklearn.metrics import roc_curve, auc"
   ]
  },
  {
   "cell_type": "code",
   "execution_count": 63,
   "metadata": {},
   "outputs": [
    {
     "data": {
      "image/png": "[encoded data removed]",
      "text/plain": [
       "<Figure size 432x288 with 1 Axes>"
      ]
     },
     "metadata": {},
     "output_type": "display_data"
    }
   ],
   "source": [
    "fpr_train, tpr_train, thr_train = roc_curve(y_train, y_proba_train[:,1])\n",
    "fpr_test,tpr_test,thr_test = roc_curve(y_test, y_proba_test[:,1])\n",
    "\n",
    "plt.axis([0, 1.01, 0, 1.01])\n",
    "plt.xlabel('1 - Specificty')\n",
    "plt.ylabel('TPR / Sensitivity')\n",
    "plt.title('ROC Curve')\n",
    "plt.plot(fpr_train,tpr_train)\n",
    "plt.plot(fpr_test,tpr_test)\n",
    "plt.plot(np.arange(0,1, step =0.01), np.arange(0,1, step =0.01))\n",
    "plt.legend(['Train','Test'])\n",
    "plt.show() "
   ]
  },
  {
   "cell_type": "code",
   "execution_count": 64,
   "metadata": {},
   "outputs": [
    {
     "name": "stdout",
     "output_type": "stream",
     "text": [
      "AUC Train= 0.8511135601570657\n",
      "AUC Test= 0.828939529834618\n"
     ]
    }
   ],
   "source": [
    "print('AUC Train=', auc(fpr_train,tpr_train))\n",
    "print('AUC Test=', auc(fpr_test,tpr_test))"
   ]
  },
  {
   "cell_type": "markdown",
   "metadata": {},
   "source": [
    "Podemos usar la curva ROC también para comparar modelos. Traigamos el modelo KNN que entrenamos en la clase de introducción a modelos de clasificación:"
   ]
  },
  {
   "cell_type": "code",
   "execution_count": 69,
   "metadata": {},
   "outputs": [
    {
     "name": "stdout",
     "output_type": "stream",
     "text": [
      "Accuracy KNN Train: 0.8381\n",
      "Accuracy KNN Train: 0.7615\n"
     ]
    }
   ],
   "source": [
    "from sklearn.neighbors import KNeighborsClassifier\n",
    "\n",
    "knn = KNeighborsClassifier(n_neighbors=5, weights='uniform', p=1)\n",
    "\n",
    "knn.fit(X_train, y_train)\n",
    "\n",
    "y_pred_train_knn = knn.predict(X_train)\n",
    "print ('Accuracy KNN Train:', accuracy_score(y_train,y_pred_train_knn).round(4))\n",
    "\n",
    "y_pred_test_knn = knn.predict(X_test)\n",
    "print ('Accuracy KNN Train:', accuracy_score(y_test,y_pred_test_knn).round(4))"
   ]
  },
  {
   "cell_type": "markdown",
   "metadata": {},
   "source": [
    "Calculamos las probabilidades de KNN en el test set:"
   ]
  },
  {
   "cell_type": "code",
   "execution_count": 70,
   "metadata": {},
   "outputs": [],
   "source": [
    "y_proba_test_knn = knn.predict_proba(X_test)"
   ]
  },
  {
   "cell_type": "markdown",
   "metadata": {},
   "source": [
    "Graficamos la curva ROC y calculamos el AUC en el set de testeo para la regresión logística y KNN:"
   ]
  },
  {
   "cell_type": "code",
   "execution_count": 71,
   "metadata": {},
   "outputs": [
    {
     "data": {
      "image/png": "[encoded data removed]",
      "text/plain": [
       "<Figure size 432x288 with 1 Axes>"
      ]
     },
     "metadata": {},
     "output_type": "display_data"
    }
   ],
   "source": [
    "fpr_log,tpr_log,thr_log = roc_curve(y_test, y_proba_test[:,1])\n",
    "fpr_knn,tpr_knn,thr_knn = roc_curve(y_test, y_proba_test_knn[:,1])\n",
    "\n",
    "plt.axis([0, 1.01, 0, 1.01])\n",
    "plt.xlabel('1 - Specificty')\n",
    "plt.ylabel('TPR / Sensitivity')\n",
    "plt.title('ROC Curve')\n",
    "plt.plot(fpr_log,tpr_log)\n",
    "plt.plot(fpr_knn,tpr_knn)\n",
    "plt.plot(np.arange(0,1, step =0.01), np.arange(0,1, step =0.01))\n",
    "plt.legend(['Regresion Logistica','KNN'])\n",
    "plt.show() "
   ]
  },
  {
   "cell_type": "code",
   "execution_count": 72,
   "metadata": {},
   "outputs": [
    {
     "name": "stdout",
     "output_type": "stream",
     "text": [
      "AUC Regresion Logistica = 0.8289\n",
      "AUC KNN = 0.7716\n"
     ]
    }
   ],
   "source": [
    "print('AUC Regresion Logistica =', auc(fpr_log,tpr_log).round(4))\n",
    "print('AUC KNN =', auc(fpr_knn,tpr_knn).round(4))"
   ]
  },
  {
   "cell_type": "markdown",
   "metadata": {},
   "source": [
    "Observamos que ambos modelos tienen una performance muy parecida. \n",
    "\n",
    "\n",
    "### ¡Muchas gracias por la atención!"
   ]
  },
  {
   "cell_type": "code",
   "execution_count": null,
   "metadata": {},
   "outputs": [],
   "source": []
  },
  {
   "cell_type": "code",
   "execution_count": null,
   "metadata": {},
   "outputs": [],
   "source": []
  }
 ],
 "metadata": {
  "kernelspec": {
   "display_name": "Python 3 (ipykernel)",
   "language": "python",
   "name": "python3"
  },
  "language_info": {
   "codemirror_mode": {
    "name": "ipython",
    "version": 3
   },
   "file_extension": ".py",
   "mimetype": "text/x-python",
   "name": "python",
   "nbconvert_exporter": "python",
   "pygments_lexer": "ipython3",
   "version": "3.9.13"
  }
 },
 "nbformat": 4,
 "nbformat_minor": 4
}
