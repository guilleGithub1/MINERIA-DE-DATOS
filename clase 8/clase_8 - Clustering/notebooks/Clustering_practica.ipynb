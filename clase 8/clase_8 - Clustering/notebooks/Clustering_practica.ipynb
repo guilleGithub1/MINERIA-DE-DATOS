{
 "cells": [
  {
   "cell_type": "markdown",
   "id": "e346395d",
   "metadata": {},
   "source": [
    "<center><img src=\"img/Marca-ITBA-Color-ALTA.png\" width=\"250\">\n",
    "\n",
    "<h1>Master en Management & Analytics</h1>\n",
    "</center>"
   ]
  },
  {
   "cell_type": "markdown",
   "id": "f1f080a7",
   "metadata": {},
   "source": [
    "# Clustering - Práctica"
   ]
  },
  {
   "cell_type": "code",
   "execution_count": 3,
   "id": "ebbbb277",
   "metadata": {},
   "outputs": [],
   "source": [
    "import pandas as pd\n",
    "import numpy as np\n",
    "import seaborn as sns\n",
    "import matplotlib.pyplot as plt\n",
    "from time import time\n",
    "from sklearn.cluster import DBSCAN,KMeans\n",
    "from sklearn.preprocessing import StandardScaler\n",
    "from sklearn.cluster import KMeans\n",
    "from sklearn.metrics import silhouette_score, silhouette_samples, calinski_harabasz_score"
   ]
  },
  {
   "cell_type": "markdown",
   "id": "a575fb8e",
   "metadata": {},
   "source": [
    "## Dataset \n",
    "En esta práctica vamos a segmentar un dataset de consumidores de un e-commerce. \n",
    "\n",
    "El mismo cuenta con las columnas\n",
    "\n",
    "* InvoiceNo: código identificatorio de la compra\n",
    "* StockCode: código del producto\n",
    "* Quantity: cantidad de unidades\n",
    "* InvoiceDate: fecha de la compra\n",
    "* UnitPrice: precio por unidad\n",
    "* CustimerID: código identificatorio del cliente\n",
    "* Country: país de la compra\n",
    "\n",
    "Fuente: https://www.kaggle.com/carrie1/ecommerce-data"
   ]
  },
  {
   "cell_type": "code",
   "execution_count": 5,
   "id": "84460112",
   "metadata": {},
   "outputs": [
    {
     "data": {
      "text/html": [
       "<div>\n",
       "<style scoped>\n",
       "    .dataframe tbody tr th:only-of-type {\n",
       "        vertical-align: middle;\n",
       "    }\n",
       "\n",
       "    .dataframe tbody tr th {\n",
       "        vertical-align: top;\n",
       "    }\n",
       "\n",
       "    .dataframe thead th {\n",
       "        text-align: right;\n",
       "    }\n",
       "</style>\n",
       "<table border=\"1\" class=\"dataframe\">\n",
       "  <thead>\n",
       "    <tr style=\"text-align: right;\">\n",
       "      <th></th>\n",
       "      <th>InvoiceNo</th>\n",
       "      <th>StockCode</th>\n",
       "      <th>Description</th>\n",
       "      <th>Quantity</th>\n",
       "      <th>InvoiceDate</th>\n",
       "      <th>UnitPrice</th>\n",
       "      <th>CustomerID</th>\n",
       "      <th>Country</th>\n",
       "    </tr>\n",
       "  </thead>\n",
       "  <tbody>\n",
       "    <tr>\n",
       "      <th>0</th>\n",
       "      <td>536365</td>\n",
       "      <td>85123A</td>\n",
       "      <td>WHITE HANGING HEART T-LIGHT HOLDER</td>\n",
       "      <td>6</td>\n",
       "      <td>12/1/2010 8:26</td>\n",
       "      <td>2.55</td>\n",
       "      <td>17850.0</td>\n",
       "      <td>United Kingdom</td>\n",
       "    </tr>\n",
       "    <tr>\n",
       "      <th>1</th>\n",
       "      <td>536365</td>\n",
       "      <td>71053</td>\n",
       "      <td>WHITE METAL LANTERN</td>\n",
       "      <td>6</td>\n",
       "      <td>12/1/2010 8:26</td>\n",
       "      <td>3.39</td>\n",
       "      <td>17850.0</td>\n",
       "      <td>United Kingdom</td>\n",
       "    </tr>\n",
       "    <tr>\n",
       "      <th>2</th>\n",
       "      <td>536365</td>\n",
       "      <td>84406B</td>\n",
       "      <td>CREAM CUPID HEARTS COAT HANGER</td>\n",
       "      <td>8</td>\n",
       "      <td>12/1/2010 8:26</td>\n",
       "      <td>2.75</td>\n",
       "      <td>17850.0</td>\n",
       "      <td>United Kingdom</td>\n",
       "    </tr>\n",
       "    <tr>\n",
       "      <th>3</th>\n",
       "      <td>536365</td>\n",
       "      <td>84029G</td>\n",
       "      <td>KNITTED UNION FLAG HOT WATER BOTTLE</td>\n",
       "      <td>6</td>\n",
       "      <td>12/1/2010 8:26</td>\n",
       "      <td>3.39</td>\n",
       "      <td>17850.0</td>\n",
       "      <td>United Kingdom</td>\n",
       "    </tr>\n",
       "    <tr>\n",
       "      <th>4</th>\n",
       "      <td>536365</td>\n",
       "      <td>84029E</td>\n",
       "      <td>RED WOOLLY HOTTIE WHITE HEART.</td>\n",
       "      <td>6</td>\n",
       "      <td>12/1/2010 8:26</td>\n",
       "      <td>3.39</td>\n",
       "      <td>17850.0</td>\n",
       "      <td>United Kingdom</td>\n",
       "    </tr>\n",
       "  </tbody>\n",
       "</table>\n",
       "</div>"
      ],
      "text/plain": [
       "  InvoiceNo StockCode                          Description  Quantity  \\\n",
       "0    536365    85123A   WHITE HANGING HEART T-LIGHT HOLDER         6   \n",
       "1    536365     71053                  WHITE METAL LANTERN         6   \n",
       "2    536365    84406B       CREAM CUPID HEARTS COAT HANGER         8   \n",
       "3    536365    84029G  KNITTED UNION FLAG HOT WATER BOTTLE         6   \n",
       "4    536365    84029E       RED WOOLLY HOTTIE WHITE HEART.         6   \n",
       "\n",
       "      InvoiceDate  UnitPrice  CustomerID         Country  \n",
       "0  12/1/2010 8:26       2.55     17850.0  United Kingdom  \n",
       "1  12/1/2010 8:26       3.39     17850.0  United Kingdom  \n",
       "2  12/1/2010 8:26       2.75     17850.0  United Kingdom  \n",
       "3  12/1/2010 8:26       3.39     17850.0  United Kingdom  \n",
       "4  12/1/2010 8:26       3.39     17850.0  United Kingdom  "
      ]
     },
     "execution_count": 5,
     "metadata": {},
     "output_type": "execute_result"
    }
   ],
   "source": [
    "data = pd.read_csv('data/e_commerce.csv', encoding=\"latin1\")\n",
    "data.head()"
   ]
  },
  {
   "cell_type": "markdown",
   "id": "fb4e0cc0",
   "metadata": {},
   "source": [
    "## Análisis exploratorio\n",
    "\n",
    "* ¿Cómo está distribuida cada columna?\n",
    "\n",
    "\n",
    "* ¿Cuántas operaciones registra cada cliente?\n",
    "\n",
    "\n",
    "* Filtrar el dataset conservando sólo el país mayoritario\n"
   ]
  },
  {
   "cell_type": "code",
   "execution_count": null,
   "id": "8fa4164b",
   "metadata": {},
   "outputs": [],
   "source": []
  },
  {
   "cell_type": "markdown",
   "id": "b44a7865",
   "metadata": {},
   "source": [
    "## Creación de variables\n",
    "\n",
    "Vamos a trabajar con una representación de los consumidores basada en tres variables Recency, Frequency, Monetary value. A esta representación se la conoce como RFM. \n",
    "\n",
    "* Recency: mide cuán reciente es la última actividad registrada por un consumidor.\n",
    "* Frequency: midel el número de compras en un intervalo de tiempo\n",
    "* Monetary value: el monto total de las compras registradas"
   ]
  },
  {
   "cell_type": "code",
   "execution_count": null,
   "id": "fe8802a9",
   "metadata": {},
   "outputs": [],
   "source": []
  },
  {
   "cell_type": "markdown",
   "id": "a580b349",
   "metadata": {},
   "source": [
    "### Recency\n",
    "\n",
    "1. Crear una columna llamada Date con la información contenida en InvoiceDate convertida a tipo datetime.\n",
    "\n",
    "Ayuda: usar las siguentes lineas\n",
    "```\n",
    "data['Date'] = data['InvoiceDate'].apply(lambda x: x.split()[0].strip())\n",
    "data['Date'] = pd.to_datetime(data['Date'], format = '%m/%d/%Y')\n",
    "```\n",
    "\n",
    "2. Generar un dataframe que contenga la última fecha de compra registrada para cada cliente. \n",
    "\n",
    "Ayuda: usar la función groupby('CustomerID')\n",
    "\n",
    "3. En el dataframe creado en 2, generar una columna Recency con el número de días entre la última fecha de compra y el presente. Dado que el dataset es del 2011, tomar como el presente el último día registrado en el dataset.\n",
    "\n",
    "Deberían obterer algo como\n",
    "\n",
    "|CustomerID\t| Recency |\n",
    "| --- | --- | \n",
    "|\t12346.0\t| 325 |\n",
    "|\t12347.0\t| 2 |\n",
    "|\t12348.0\t| 75 |\n",
    "|\t12349.0\t| 181 |\n",
    "|\t12350.0\t| 310 |"
   ]
  },
  {
   "cell_type": "code",
   "execution_count": null,
   "id": "bfa60fcb",
   "metadata": {},
   "outputs": [],
   "source": []
  },
  {
   "cell_type": "markdown",
   "id": "9b96c1ca",
   "metadata": {},
   "source": [
    "### Frequency\n",
    "\n",
    "Calcular el número de compras distintas (distinto InvoiceNo) hechas por cada cliente.\n",
    "\n",
    "Generar un dataframe que contenga el CustomerID y la frecuencia."
   ]
  },
  {
   "cell_type": "code",
   "execution_count": null,
   "id": "3588c6df",
   "metadata": {},
   "outputs": [],
   "source": []
  },
  {
   "cell_type": "markdown",
   "id": "1862c12b",
   "metadata": {},
   "source": [
    "### Monetary\n",
    "\n",
    "Calcular el monto total gastado por cada cliente en toda su historia de compras.\n",
    "\n",
    "Generar un dataframe que contenga el consumerID y el monto.\n"
   ]
  },
  {
   "cell_type": "code",
   "execution_count": null,
   "id": "7ab80400",
   "metadata": {},
   "outputs": [],
   "source": []
  },
  {
   "cell_type": "markdown",
   "id": "2c1bad76",
   "metadata": {},
   "source": [
    "### Generar un dataframe RFM\n",
    "\n",
    "Hacer un merge de los dataframes Recency, Frequency, Monetary alineado por la columna CustomerID."
   ]
  },
  {
   "cell_type": "code",
   "execution_count": null,
   "id": "75209ef8",
   "metadata": {},
   "outputs": [],
   "source": []
  },
  {
   "cell_type": "markdown",
   "id": "e52ed892",
   "metadata": {},
   "source": [
    "## Outliers\n",
    "\n",
    "Hacer un análisis de outliers en las variables generadas. \n",
    "\n",
    "¿Considera necesario hacer un filtrado? ¿con qué criterio?"
   ]
  },
  {
   "cell_type": "code",
   "execution_count": null,
   "id": "54b8540b",
   "metadata": {},
   "outputs": [],
   "source": []
  },
  {
   "cell_type": "markdown",
   "id": "69c21901",
   "metadata": {},
   "source": [
    "### Estandarizacion\n",
    "\n",
    "Estandaricen las tres variables RFM con la herramienta StandardScaler"
   ]
  },
  {
   "cell_type": "code",
   "execution_count": null,
   "id": "cea7e48d",
   "metadata": {},
   "outputs": [],
   "source": []
  },
  {
   "cell_type": "markdown",
   "id": "9a3470a3",
   "metadata": {},
   "source": [
    "### Kmeans\n",
    "\n",
    "Implementen un modelo de Kmeans para distintos valores de k. \n",
    "\n",
    "Hagan un gráfico de la varianza del modelo (el atributo inertia_) y de los scores de silhouette y calinski-harabaz en función de k.\n",
    "\n",
    "¿Qué valor de k eligirían?\n",
    "\n",
    "Vuelvan a entrenar el modelo con ese valor de k y visualicen los resultados mediante un pairplot del dataset usando como hue las etiquetas de los clusters (como hicimos en la notebook de kmeans)."
   ]
  },
  {
   "cell_type": "code",
   "execution_count": null,
   "id": "4180890a",
   "metadata": {},
   "outputs": [],
   "source": []
  },
  {
   "cell_type": "markdown",
   "id": "6ca7d7f7",
   "metadata": {},
   "source": [
    "### Extra\n",
    "\n",
    "Implementen un modelo de dbscan y uno jerárquico.\n",
    "\n",
    "¿Cómo elegirían los hiperparámetros en cada caso?\n",
    "\n",
    "¿Cómo varían los resultados respecto de kmeans?"
   ]
  },
  {
   "cell_type": "code",
   "execution_count": null,
   "id": "3ce08652",
   "metadata": {
    "scrolled": true
   },
   "outputs": [],
   "source": []
  }
 ],
 "metadata": {
  "kernelspec": {
   "display_name": "Python 3 (ipykernel)",
   "language": "python",
   "name": "python3"
  },
  "language_info": {
   "codemirror_mode": {
    "name": "ipython",
    "version": 3
   },
   "file_extension": ".py",
   "mimetype": "text/x-python",
   "name": "python",
   "nbconvert_exporter": "python",
   "pygments_lexer": "ipython3",
   "version": "3.10.4"
  }
 },
 "nbformat": 4,
 "nbformat_minor": 5
}
