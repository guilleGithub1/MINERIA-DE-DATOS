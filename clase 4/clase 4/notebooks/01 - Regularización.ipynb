{
 "cells": [
  {
   "cell_type": "markdown",
   "metadata": {},
   "source": [
    "<center><img src=\"img/Marca-ITBA-Color-ALTA.png\" width=\"250\">\n",
    "\n",
    "<h1>Master en Management & Analytics</h1>\n",
    "</center>\n"
   ]
  },
  {
   "cell_type": "markdown",
   "metadata": {},
   "source": [
    "## Clase 4- Sesgo y varianza. Regularización"
   ]
  },
  {
   "cell_type": "markdown",
   "metadata": {},
   "source": [
    "#### Referencias y bibliografía de consulta:\n",
    "\n",
    "- Introduction to Machine Learning with Python by Andreas C. Müller and Sarah Guido (O’Reilly) 2017 - capítulos 1 y 2\n",
    "- An Introduction to Statistical Learning with Applications in R by Gareth James, Daniela Witten, Trevor Hastie and Robert Tibshirani (Springer) 2017 - capítulos 2 y 3\n",
    "- Python Machine Learning - Second Edition by Sebastian Raschka (Packt) 2017 - capítulo 1\n",
    "- Hands-On Machine Learning with Scikit-Learn and TensorFlow: Concepts, Tools, and Techniques to Build Intelligent Systems - Aurélien Géron - 2017\n",
    "- https://scikit-learn.org/\n"
   ]
  },
  {
   "cell_type": "markdown",
   "metadata": {},
   "source": [
    "### 1) Trade-off entre sesgo y varianza\n",
    "\n",
    "Realicemos un repaso sobre los conceptos de sesgo y varianza, recordando el siguiente gráfico:\n",
    "\n",
    "<img src=\"img/model_compl.png\" width=\"750\">\n",
    "<div class='epigraph' align=\"center\"><i>MSE en función de los grados del polinomio</i></div><br>\n",
    "\n",
    "- En el primer caso, donde el grado del polinomio es 1, el modelo es demasiado simple (tiene pocos grados de libertad). Por lo tanto, no importa cuán grande sea el dataset: tenemos **sesgo o error sistemático**, también denominado **underfitting**.\n",
    "\n",
    "- En el tercer caso, donde el grado del polinómio es 15, el modelo es demasiado complejo (ie. tiene demasiados grados de libertad), entonces el estimador puede ajustarse a variaciones espurias de la muestra generando un  **sobre-ajuste** u **overfitting**\n",
    "\n",
    "- El objetivo, por lo tanto es encontrar un **balance óptimo** entre la complejidad del modelo y nuestros datos. Aquí radica el mayor desafío de un proyecto de machine learning.\n",
    "\n",
    "<img src=\"img/underfvsoverf.png\" width=\"450\">\n",
    "<div class='epigraph' align=\"center\"><i>Error en función de la complejidad del modelo</i></div><br>\n",
    "\n",
    "Para **resolver un problema de underfitting**, tenemos que incrementar su poder de ajuste. Esto puede hacerse de varias maneras. Por ejemplo: \n",
    "\n",
    "- Utilizar un modelo más potente (en el módulo de modelos avanzados vamos a ver varios modelos de machine learning)\n",
    "- Enquiquecer nuestro dataset con más variables\n",
    "- Realizar tareas de *feature engineering* sobre las variables que tenemos, como por ejemplo generar variables polinómicas.\n",
    "\n",
    "\n",
    "##### Exploremos ahora estos conceptos volviendo a nuestro dataset sobre el precio de las casas de King County:"
   ]
  },
  {
   "cell_type": "markdown",
   "metadata": {},
   "source": [
    "<img src=\"img/House sale.jpg\" width=\"400\"  >\n",
    "\n",
    "En la clase de hoy vamos a seguir trabajando con el [dataset](https://geodacenter.github.io/data-and-lab/KingCounty-HouseSales2015/) de precios de venta de viviendas del King County. \n",
    "\n",
    "Recordemos cuáles son los atributos del dataset y qué representa cada uno:\n",
    "Tenemos 21 atributos:\n",
    "- **id**: identificación\n",
    "- **date**: fecha de venta       \n",
    "- **price**: precio de venta. Esta es nuestra `variable objetivo`.\n",
    "- **bedrooms**: cantidad de habitaciones\n",
    "- **bathrooms**: cantidad de baños\n",
    "- **sqft_living**: tamaño de la zona habitable en pies cuadrados\n",
    "- **sqft_lot**: tamaño del lote en pies cuadrados\n",
    "- **floors**: cantidad de pisos\n",
    "- **waterfront**: 1 si la propiedad tiene un frente de agua, 0 si no.\n",
    "- **view**: un índice de 0 a 4 de lo buena que era la vista de la propiedad\n",
    "- **condition**: estado de la casa, clasificado del 1 al 5\n",
    "- **grade**: clasificación según la calidad de la construcción, que se refiere a los tipos de materiales utilizados y a la calidad de la mano de obra. Los edificios de mejor calidad (mayor grado) cuestan más de construir por unidad de medida y tienen mayor valor.\n",
    "- **sqft_above**: Pies cuadrados sobre el suelo\n",
    "- **sqft_basement**: Pies cuadrados bajo tierra\n",
    "- **yr_built**: año de construcción\n",
    "- **yr_renovated**: año de renovación. 0 si no se ha renovado nunca\n",
    "- **zipcode**: código postal de 5 dígitos\n",
    "- **lat**: latitud\n",
    "- **long**: longitud\n",
    "- **sqft_living15**: tamaño medio del espacio habitable de las 15 casas más cercanas, en pies cuadrados\n",
    "- **sqft_lot15**: tamaño medio del lote de las 15 casas más cercanas, en pies cuadrados"
   ]
  },
  {
   "cell_type": "markdown",
   "metadata": {},
   "source": [
    "Vamos a comenzar, como de costumbre importando algunas de las librerías que vamos a necesitar:"
   ]
  },
  {
   "cell_type": "code",
   "execution_count": 1,
   "metadata": {},
   "outputs": [],
   "source": [
    "import numpy as np\n",
    "import pandas as pd\n",
    "\n",
    "import seaborn as sns\n",
    "import matplotlib.pyplot as plt\n",
    "%matplotlib inline\n",
    "\n",
    "from sklearn.model_selection import train_test_split\n",
    "from sklearn.linear_model import LinearRegression\n",
    "from sklearn.metrics import mean_absolute_error, mean_squared_error, r2_score\n",
    "\n",
    "import warnings\n",
    "warnings.filterwarnings('ignore')"
   ]
  },
  {
   "cell_type": "markdown",
   "metadata": {},
   "source": [
    "Creamos un DataFrame tomando el csv con los datos:"
   ]
  },
  {
   "cell_type": "code",
   "execution_count": 2,
   "metadata": {},
   "outputs": [
    {
     "data": {
      "text/html": [
       "<div>\n",
       "<style scoped>\n",
       "    .dataframe tbody tr th:only-of-type {\n",
       "        vertical-align: middle;\n",
       "    }\n",
       "\n",
       "    .dataframe tbody tr th {\n",
       "        vertical-align: top;\n",
       "    }\n",
       "\n",
       "    .dataframe thead th {\n",
       "        text-align: right;\n",
       "    }\n",
       "</style>\n",
       "<table border=\"1\" class=\"dataframe\">\n",
       "  <thead>\n",
       "    <tr style=\"text-align: right;\">\n",
       "      <th></th>\n",
       "      <th>id</th>\n",
       "      <th>date</th>\n",
       "      <th>price</th>\n",
       "      <th>bedrooms</th>\n",
       "      <th>bathrooms</th>\n",
       "      <th>sqft_living</th>\n",
       "      <th>sqft_lot</th>\n",
       "      <th>floors</th>\n",
       "      <th>waterfront</th>\n",
       "      <th>view</th>\n",
       "      <th>...</th>\n",
       "      <th>grade</th>\n",
       "      <th>sqft_above</th>\n",
       "      <th>sqft_basement</th>\n",
       "      <th>yr_built</th>\n",
       "      <th>yr_renovated</th>\n",
       "      <th>zipcode</th>\n",
       "      <th>lat</th>\n",
       "      <th>long</th>\n",
       "      <th>sqft_living15</th>\n",
       "      <th>sqft_lot15</th>\n",
       "    </tr>\n",
       "  </thead>\n",
       "  <tbody>\n",
       "    <tr>\n",
       "      <th>0</th>\n",
       "      <td>7129300520</td>\n",
       "      <td>20141013T000000</td>\n",
       "      <td>221900.0</td>\n",
       "      <td>3</td>\n",
       "      <td>1.00</td>\n",
       "      <td>1180</td>\n",
       "      <td>5650</td>\n",
       "      <td>1.0</td>\n",
       "      <td>0</td>\n",
       "      <td>0</td>\n",
       "      <td>...</td>\n",
       "      <td>7</td>\n",
       "      <td>1180</td>\n",
       "      <td>0</td>\n",
       "      <td>1955</td>\n",
       "      <td>0</td>\n",
       "      <td>98178</td>\n",
       "      <td>47.5112</td>\n",
       "      <td>-122.257</td>\n",
       "      <td>1340</td>\n",
       "      <td>5650</td>\n",
       "    </tr>\n",
       "    <tr>\n",
       "      <th>1</th>\n",
       "      <td>6414100192</td>\n",
       "      <td>20141209T000000</td>\n",
       "      <td>538000.0</td>\n",
       "      <td>3</td>\n",
       "      <td>2.25</td>\n",
       "      <td>2570</td>\n",
       "      <td>7242</td>\n",
       "      <td>2.0</td>\n",
       "      <td>0</td>\n",
       "      <td>0</td>\n",
       "      <td>...</td>\n",
       "      <td>7</td>\n",
       "      <td>2170</td>\n",
       "      <td>400</td>\n",
       "      <td>1951</td>\n",
       "      <td>1991</td>\n",
       "      <td>98125</td>\n",
       "      <td>47.7210</td>\n",
       "      <td>-122.319</td>\n",
       "      <td>1690</td>\n",
       "      <td>7639</td>\n",
       "    </tr>\n",
       "    <tr>\n",
       "      <th>2</th>\n",
       "      <td>5631500400</td>\n",
       "      <td>20150225T000000</td>\n",
       "      <td>180000.0</td>\n",
       "      <td>2</td>\n",
       "      <td>1.00</td>\n",
       "      <td>770</td>\n",
       "      <td>10000</td>\n",
       "      <td>1.0</td>\n",
       "      <td>0</td>\n",
       "      <td>0</td>\n",
       "      <td>...</td>\n",
       "      <td>6</td>\n",
       "      <td>770</td>\n",
       "      <td>0</td>\n",
       "      <td>1933</td>\n",
       "      <td>0</td>\n",
       "      <td>98028</td>\n",
       "      <td>47.7379</td>\n",
       "      <td>-122.233</td>\n",
       "      <td>2720</td>\n",
       "      <td>8062</td>\n",
       "    </tr>\n",
       "    <tr>\n",
       "      <th>3</th>\n",
       "      <td>2487200875</td>\n",
       "      <td>20141209T000000</td>\n",
       "      <td>604000.0</td>\n",
       "      <td>4</td>\n",
       "      <td>3.00</td>\n",
       "      <td>1960</td>\n",
       "      <td>5000</td>\n",
       "      <td>1.0</td>\n",
       "      <td>0</td>\n",
       "      <td>0</td>\n",
       "      <td>...</td>\n",
       "      <td>7</td>\n",
       "      <td>1050</td>\n",
       "      <td>910</td>\n",
       "      <td>1965</td>\n",
       "      <td>0</td>\n",
       "      <td>98136</td>\n",
       "      <td>47.5208</td>\n",
       "      <td>-122.393</td>\n",
       "      <td>1360</td>\n",
       "      <td>5000</td>\n",
       "    </tr>\n",
       "    <tr>\n",
       "      <th>4</th>\n",
       "      <td>1954400510</td>\n",
       "      <td>20150218T000000</td>\n",
       "      <td>510000.0</td>\n",
       "      <td>3</td>\n",
       "      <td>2.00</td>\n",
       "      <td>1680</td>\n",
       "      <td>8080</td>\n",
       "      <td>1.0</td>\n",
       "      <td>0</td>\n",
       "      <td>0</td>\n",
       "      <td>...</td>\n",
       "      <td>8</td>\n",
       "      <td>1680</td>\n",
       "      <td>0</td>\n",
       "      <td>1987</td>\n",
       "      <td>0</td>\n",
       "      <td>98074</td>\n",
       "      <td>47.6168</td>\n",
       "      <td>-122.045</td>\n",
       "      <td>1800</td>\n",
       "      <td>7503</td>\n",
       "    </tr>\n",
       "  </tbody>\n",
       "</table>\n",
       "<p>5 rows × 21 columns</p>\n",
       "</div>"
      ],
      "text/plain": [
       "           id             date     price  bedrooms  bathrooms  sqft_living  \\\n",
       "0  7129300520  20141013T000000  221900.0         3       1.00         1180   \n",
       "1  6414100192  20141209T000000  538000.0         3       2.25         2570   \n",
       "2  5631500400  20150225T000000  180000.0         2       1.00          770   \n",
       "3  2487200875  20141209T000000  604000.0         4       3.00         1960   \n",
       "4  1954400510  20150218T000000  510000.0         3       2.00         1680   \n",
       "\n",
       "   sqft_lot  floors  waterfront  view  ...  grade  sqft_above  sqft_basement  \\\n",
       "0      5650     1.0           0     0  ...      7        1180              0   \n",
       "1      7242     2.0           0     0  ...      7        2170            400   \n",
       "2     10000     1.0           0     0  ...      6         770              0   \n",
       "3      5000     1.0           0     0  ...      7        1050            910   \n",
       "4      8080     1.0           0     0  ...      8        1680              0   \n",
       "\n",
       "   yr_built  yr_renovated  zipcode      lat     long  sqft_living15  \\\n",
       "0      1955             0    98178  47.5112 -122.257           1340   \n",
       "1      1951          1991    98125  47.7210 -122.319           1690   \n",
       "2      1933             0    98028  47.7379 -122.233           2720   \n",
       "3      1965             0    98136  47.5208 -122.393           1360   \n",
       "4      1987             0    98074  47.6168 -122.045           1800   \n",
       "\n",
       "   sqft_lot15  \n",
       "0        5650  \n",
       "1        7639  \n",
       "2        8062  \n",
       "3        5000  \n",
       "4        7503  \n",
       "\n",
       "[5 rows x 21 columns]"
      ]
     },
     "execution_count": 2,
     "metadata": {},
     "output_type": "execute_result"
    }
   ],
   "source": [
    "dataset = pd.read_csv('data/kc_house_data.csv')\n",
    "\n",
    "dataset.head()"
   ]
  },
  {
   "cell_type": "markdown",
   "metadata": {},
   "source": [
    "Vamos a realizar las tareas de limpieza que hicimos la clase pasada:"
   ]
  },
  {
   "cell_type": "code",
   "execution_count": 3,
   "metadata": {},
   "outputs": [],
   "source": [
    "# Casteamos el atributo 'date' a datetime\n",
    "dataset['date'] = pd.to_datetime(dataset['date'])\n",
    "\n",
    "# Creamos una variable que represente el año de venta\n",
    "dataset['year_sold'] = dataset['date'].dt.year\n",
    "\n",
    "# Corregimos el error de carga en 'bedrooms'\n",
    "dataset.loc[dataset['bedrooms']==33,'bedrooms'] = 3"
   ]
  },
  {
   "cell_type": "markdown",
   "metadata": {},
   "source": [
    "Creamos nuestra matriz de features y nuestro vector target."
   ]
  },
  {
   "cell_type": "code",
   "execution_count": 4,
   "metadata": {},
   "outputs": [
    {
     "name": "stdout",
     "output_type": "stream",
     "text": [
      "Shape X: (21613, 18)\n",
      "Type X: <class 'pandas.core.frame.DataFrame'>\n",
      "Shape y: (21613,)\n",
      "Type y: <class 'pandas.core.series.Series'>\n"
     ]
    }
   ],
   "source": [
    "# Creamos X e y\n",
    "features_cols = [x for x in dataset.columns if x not in ['price','id', 'date','zipcode']]\n",
    "X = dataset[features_cols]\n",
    "y = dataset['price']\n",
    "\n",
    "# Verificamos el shape y el tipo de X e y:\n",
    "print(\"Shape X:\", X.shape)\n",
    "print(\"Type X:\", type(X))\n",
    "print(\"Shape y:\", y.shape)\n",
    "print(\"Type y:\", type(y))"
   ]
  },
  {
   "cell_type": "code",
   "execution_count": 5,
   "metadata": {},
   "outputs": [
    {
     "data": {
      "text/plain": [
       "Index(['bedrooms', 'bathrooms', 'sqft_living', 'sqft_lot', 'floors',\n",
       "       'waterfront', 'view', 'condition', 'grade', 'sqft_above',\n",
       "       'sqft_basement', 'yr_built', 'yr_renovated', 'lat', 'long',\n",
       "       'sqft_living15', 'sqft_lot15', 'year_sold'],\n",
       "      dtype='object')"
      ]
     },
     "execution_count": 5,
     "metadata": {},
     "output_type": "execute_result"
    }
   ],
   "source": [
    "X.columns"
   ]
  },
  {
   "cell_type": "markdown",
   "metadata": {},
   "source": [
    "Hacemos el split entre train y test sets:"
   ]
  },
  {
   "cell_type": "code",
   "execution_count": 6,
   "metadata": {},
   "outputs": [],
   "source": [
    "rs=1\n",
    "\n",
    "X_train, X_test, y_train, y_test = train_test_split(X, y, test_size=0.3, random_state=rs)"
   ]
  },
  {
   "cell_type": "markdown",
   "metadata": {},
   "source": [
    "Realizamos la imputación de las variables 'bedrooms' y 'bathrooms' para las casas con valores igual a 0, cuidando de calcular los valores en el set de entrenamiento y utilizando dichos valores para el train y test sets:"
   ]
  },
  {
   "cell_type": "code",
   "execution_count": 7,
   "metadata": {},
   "outputs": [],
   "source": [
    "X_train['bedrooms'].replace(0, np.nan, inplace=True)\n",
    "X_train['bathrooms'].replace(0, np.nan, inplace=True)\n",
    "X_test['bedrooms'].replace(0, np.nan, inplace=True)\n",
    "X_test['bathrooms'].replace(0, np.nan, inplace=True)\n",
    "\n",
    "X_train.fillna(X_train.groupby('floors').transform('median'), inplace=True)\n",
    "\n",
    "dicc_bed = X_train.groupby('floors')['bedrooms'].median().apply(np.ceil).to_dict()\n",
    "dicc_bath = X_train.groupby('floors')['bathrooms'].median().apply(np.ceil).to_dict()\n",
    "\n",
    "X_test['bedrooms'] = X_test['bedrooms']\\\n",
    "                            .fillna(X_test['floors'].apply(lambda x: dicc_bed.get(x)))\n",
    "\n",
    "X_test['bathrooms'] = X_test['bathrooms']\\\n",
    "                            .fillna(X_test['floors'].apply(lambda x: dicc_bath.get(x)))"
   ]
  },
  {
   "cell_type": "markdown",
   "metadata": {},
   "source": [
    "#### 1.1) Estandarización\n",
    "\n",
    "Un aspecto metodológico importante es que para aplicar estas técnicas de regularización, tenemos que normalizar los datos. Esto se debe a que, al penalizar los parámentros por su tamaño, la escala en la que están medidas las variables se vuelve absolutamente relevante.\n",
    "\n",
    "Con el modelo de regresión lineal sin regularización, el valor de los parámetros compensaba por las unidades de medida de las variables, por lo que no afectaba al resultado del modelo. Al aplicar regularización, no queremos que efectos de escala afecten la imporancia relativa de los parámetros. Por este motivo, estandarizamos a todas las variables, con media $0$ y desvío estándar $1$, de modo tal que de llevar a todas las variables a una escala común. \n",
    "\n",
    "Uno de los aspectos que tenemos que saber antes de entrenar un modelo de machine learning es si requiere o no que los datos estén normalizados.\n",
    "\n",
    "Apliquemos estandarización, transformando las variables para que tengan media 0 $(\\mu = 0)$ y desvío estándar 1 $(\\sigma = 1)$, aplicando la fórmula:\n",
    "\n",
    "$$ x' = \\frac{x - \\mu}{\\sigma}$$"
   ]
  },
  {
   "cell_type": "code",
   "execution_count": 8,
   "metadata": {},
   "outputs": [],
   "source": [
    "from sklearn.preprocessing import StandardScaler\n",
    "\n",
    "stdscaler = StandardScaler()\n",
    "\n",
    "X_train_std = pd.DataFrame(stdscaler.fit_transform(X_train), columns=X_train.columns)\n",
    "\n",
    "X_test_std = pd.DataFrame(stdscaler.transform(X_test), columns=X_test.columns)"
   ]
  },
  {
   "cell_type": "markdown",
   "metadata": {},
   "source": [
    "Corroboremos que el scaler almacena la media y el desvío estándar de X_train:"
   ]
  },
  {
   "cell_type": "code",
   "execution_count": 9,
   "metadata": {},
   "outputs": [
    {
     "data": {
      "text/plain": [
       "array([ 3.36856369e+00,  2.11710952e+00,  2.07828587e+03,  1.52178878e+04,\n",
       "        1.49811620e+00,  7.66739375e-03,  2.31674268e-01,  3.41013947e+00,\n",
       "        7.66038734e+00,  1.78580144e+03,  2.92484434e+02,  1.97110285e+03,\n",
       "        8.40272325e+01,  4.75591187e+01, -1.22213391e+02,  1.98409690e+03,\n",
       "        1.27788480e+04,  2.01432580e+03])"
      ]
     },
     "execution_count": 9,
     "metadata": {},
     "output_type": "execute_result"
    }
   ],
   "source": [
    "stdscaler.mean_"
   ]
  },
  {
   "cell_type": "code",
   "execution_count": 10,
   "metadata": {},
   "outputs": [
    {
     "data": {
      "text/plain": [
       "array([ 3.36856369e+00,  2.11710952e+00,  2.07828587e+03,  1.52178878e+04,\n",
       "        1.49811620e+00,  7.66739375e-03,  2.31674268e-01,  3.41013947e+00,\n",
       "        7.66038734e+00,  1.78580144e+03,  2.92484434e+02,  1.97110285e+03,\n",
       "        8.40272325e+01,  4.75591187e+01, -1.22213391e+02,  1.98409690e+03,\n",
       "        1.27788480e+04,  2.01432580e+03])"
      ]
     },
     "execution_count": 10,
     "metadata": {},
     "output_type": "execute_result"
    }
   ],
   "source": [
    "X_train.mean(axis=0).values"
   ]
  },
  {
   "cell_type": "code",
   "execution_count": 11,
   "metadata": {},
   "outputs": [
    {
     "data": {
      "text/plain": [
       "array([9.01775516e-01, 7.62054673e-01, 9.03225256e+02, 4.32894492e+04,\n",
       "       5.41166470e-01, 8.72273169e-02, 7.62971710e-01, 6.51730594e-01,\n",
       "       1.16782244e+00, 8.17312381e+02, 4.40352527e+02, 2.94149217e+01,\n",
       "       4.00800643e+02, 1.38806082e-01, 1.40607580e-01, 6.79357867e+02,\n",
       "       2.78058207e+04, 4.68672285e-01])"
      ]
     },
     "execution_count": 11,
     "metadata": {},
     "output_type": "execute_result"
    }
   ],
   "source": [
    "stdscaler.scale_"
   ]
  },
  {
   "cell_type": "code",
   "execution_count": 12,
   "metadata": {},
   "outputs": [
    {
     "data": {
      "text/plain": [
       "array([9.01805320e-01, 7.62079860e-01, 9.03255108e+02, 4.32908799e+04,\n",
       "       5.41184356e-01, 8.72301999e-02, 7.62996927e-01, 6.51752134e-01,\n",
       "       1.16786104e+00, 8.17339394e+02, 4.40367081e+02, 2.94158939e+01,\n",
       "       4.00813890e+02, 1.38810670e-01, 1.40612227e-01, 6.79380321e+02,\n",
       "       2.78067397e+04, 4.68687775e-01])"
      ]
     },
     "execution_count": 12,
     "metadata": {},
     "output_type": "execute_result"
    }
   ],
   "source": [
    "X_train.std(axis=0).values"
   ]
  },
  {
   "cell_type": "markdown",
   "metadata": {},
   "source": [
    "Es importante notar que estamos haciendo el `fit_transform()` de `stdscaler` con los datos de entrenamiento. Para los datos de testeo, estamos usando el método `transform`, es decir que normalizamos utilizando las medias y desvíos estándar calculados en el set de entrenamiento. Esto es así para evitar **data leakage**, es decir filtración de información del set de testo en el modelo.  \n",
    "\n",
    "Corroboremos los valores de la media y el desvío estándar:"
   ]
  },
  {
   "cell_type": "code",
   "execution_count": 13,
   "metadata": {},
   "outputs": [
    {
     "data": {
      "text/plain": [
       "bedrooms         0.0\n",
       "bathrooms        0.0\n",
       "sqft_living      0.0\n",
       "sqft_lot         0.0\n",
       "floors          -0.0\n",
       "waterfront       0.0\n",
       "view            -0.0\n",
       "condition       -0.0\n",
       "grade            0.0\n",
       "sqft_above      -0.0\n",
       "sqft_basement   -0.0\n",
       "yr_built         0.0\n",
       "yr_renovated     0.0\n",
       "lat              0.0\n",
       "long             0.0\n",
       "sqft_living15   -0.0\n",
       "sqft_lot15       0.0\n",
       "year_sold       -0.0\n",
       "dtype: float64"
      ]
     },
     "execution_count": 13,
     "metadata": {},
     "output_type": "execute_result"
    }
   ],
   "source": [
    "X_train_std.mean(axis=0).round(2)"
   ]
  },
  {
   "cell_type": "code",
   "execution_count": 14,
   "metadata": {},
   "outputs": [
    {
     "data": {
      "text/plain": [
       "bedrooms         1.000033\n",
       "bathrooms        1.000033\n",
       "sqft_living      1.000033\n",
       "sqft_lot         1.000033\n",
       "floors           1.000033\n",
       "waterfront       1.000033\n",
       "view             1.000033\n",
       "condition        1.000033\n",
       "grade            1.000033\n",
       "sqft_above       1.000033\n",
       "sqft_basement    1.000033\n",
       "yr_built         1.000033\n",
       "yr_renovated     1.000033\n",
       "lat              1.000033\n",
       "long             1.000033\n",
       "sqft_living15    1.000033\n",
       "sqft_lot15       1.000033\n",
       "year_sold        1.000033\n",
       "dtype: float64"
      ]
     },
     "execution_count": 14,
     "metadata": {},
     "output_type": "execute_result"
    }
   ],
   "source": [
    "X_train_std.std(axis=0)"
   ]
  },
  {
   "cell_type": "markdown",
   "metadata": {},
   "source": [
    "#### 1.2)  Regresión lineal múltiple sin regularización\n",
    "\n",
    "Volvamos a entrenar el modelo de regresión lineal múltiple para tener de referencia:"
   ]
  },
  {
   "cell_type": "code",
   "execution_count": 15,
   "metadata": {},
   "outputs": [
    {
     "name": "stdout",
     "output_type": "stream",
     "text": [
      "R2 train sin regularizacion: 0.7018\n",
      "R2 test sin regularizacion: 0.6878\n"
     ]
    }
   ],
   "source": [
    "model_mult = LinearRegression(fit_intercept=True)\n",
    "model_mult\n",
    "\n",
    "model_mult.fit(X_train_std, y_train)\n",
    "\n",
    "y_pred_train = model_mult.predict(X_train_std)\n",
    "y_pred_test = model_mult.predict(X_test_std)\n",
    "\n",
    "print ('R2 train sin regularizacion: {}'.format(r2_score(y_train, y_pred_train).round(4)))\n",
    "print ('R2 test sin regularizacion: {}'.format(r2_score(y_test, y_pred_test).round(4)))"
   ]
  },
  {
   "cell_type": "markdown",
   "metadata": {},
   "source": [
    "Se puede apreciar que haber normalizado los datos no afecta la performance del modelo.\n",
    "\n",
    "Vemos que el modelo presenta una bondad de ajuste similar en el set de entrenamiento y de testeo.\n",
    "\n",
    "Vamos a darle más poder de ajuste al modelo agregando *features* polinómicas. Veamos qué pasa con el modelo a medida que agregamos variables polinómicas de grado mayor"
   ]
  },
  {
   "cell_type": "code",
   "execution_count": 16,
   "metadata": {},
   "outputs": [],
   "source": [
    "from sklearn.preprocessing import PolynomialFeatures\n",
    "from sklearn.linear_model import LinearRegression\n",
    "from sklearn.pipeline import make_pipeline\n",
    "\n",
    "def PolynomialRegression(degree=2, **kwargs):\n",
    "    return make_pipeline(PolynomialFeatures(degree),\n",
    "                         LinearRegression(**kwargs))"
   ]
  },
  {
   "cell_type": "markdown",
   "metadata": {},
   "source": [
    "Para que se pueda apreciar mejor el efecto de las variables polinómicas, vamos a quedarnos solamente con las variables más importantes.\n",
    "\n",
    "No va a cambiar la esencia de lo que queremos ver y el overfitting se a a poder apreciar más gradualmente."
   ]
  },
  {
   "cell_type": "code",
   "execution_count": 17,
   "metadata": {},
   "outputs": [],
   "source": [
    "X_train_poly = X_train_std[['sqft_living', 'grade', 'sqft_above', \\\n",
    "                            'sqft_living15', 'bathrooms', 'view', 'sqft_basement',\\\n",
    "                           'bedrooms', 'lat', 'waterfront', 'floors']]\n",
    "\n",
    "X_test_poly = X_test_std[['sqft_living', 'grade', 'sqft_above', \\\n",
    "                            'sqft_living15', 'bathrooms', 'view', 'sqft_basement',\\\n",
    "                           'bedrooms', 'lat', 'waterfront', 'floors']]"
   ]
  },
  {
   "cell_type": "code",
   "execution_count": 18,
   "metadata": {},
   "outputs": [],
   "source": [
    "train_scores = []\n",
    "test_scores = []\n",
    "\n",
    "max_deg = 5\n",
    "\n",
    "for deg in range(1, max_deg):\n",
    "    model = PolynomialRegression(degree=deg).fit(X_train_poly, y_train)\n",
    "    y_pred_train = model.predict(X_train_poly)\n",
    "    y_pred_test = model.predict(X_test_poly)\n",
    "    train_scores.append(r2_score(y_train, y_pred_train))\n",
    "    test_scores.append(r2_score(y_test, y_pred_test))"
   ]
  },
  {
   "cell_type": "code",
   "execution_count": 19,
   "metadata": {},
   "outputs": [
    {
     "data": {
      "image/png": "[encoded data removed]",
      "text/plain": [
       "<Figure size 800x600 with 1 Axes>"
      ]
     },
     "metadata": {},
     "output_type": "display_data"
    }
   ],
   "source": [
    "plt.figure(figsize=(8,6))\n",
    "plt.plot(list(range(1,max_deg)),train_scores, '-o')\n",
    "plt.plot(list(range(1,max_deg)),test_scores, '-o')\n",
    "plt.ylim([0,1])\n",
    "plt.legend(['$R2$ de entrenamiento', '$R2$ de testeo'])\n",
    "plt.title('Validation curves',fontdict=dict(fontsize=18))\n",
    "plt.xlabel('Grado del polinomio (complejidad del modelo)', fontdict=dict(fontsize=15))\n",
    "plt.ylabel('R2', fontdict=dict(fontsize=15));"
   ]
  },
  {
   "cell_type": "markdown",
   "metadata": {},
   "source": [
    "Vemos que en un principio, ambos $R2$ crecen juntos. A partir del grado 3 el modelo empieza a sobreajustar el set de entrenamiento. Desde el grado 4, el overfitting es tan alto que el $R2$ colapsa. "
   ]
  },
  {
   "cell_type": "markdown",
   "metadata": {},
   "source": [
    "#### 1.3) Learning curves\n",
    "\n",
    "Si tenemos un **problema de overfitting**, una opción válida es incrementar el tamaño del dataset, ya que, a igualdad de complejidad de un modelo, a mayor tamaño del dataset tendremos menos **varianza**. \n",
    "\n",
    "<img src=\"img/errorvsdatasize.png\" width=\"450\">\n",
    "<div class='epigraph' align=\"center\"><i>Error en relación al tamaño del dataset</i></div><br>\n",
    "\n",
    "Probemos esto en nuestro dataset:"
   ]
  },
  {
   "cell_type": "code",
   "execution_count": 20,
   "metadata": {},
   "outputs": [],
   "source": [
    "train_errors = []\n",
    "val_errors = []\n",
    "\n",
    "model = LinearRegression(fit_intercept=True)\n",
    "\n",
    "for m in range(1, len(X_train_std), 100):\n",
    "    model.fit(X_train_std[:m], y_train[:m])\n",
    "    y_pred_train = model.predict(X_train_std[:m])\n",
    "    y_pred_test = model.predict(X_test_std)\n",
    "    train_errors.append(mean_squared_error(y_train[:m], y_pred_train))\n",
    "    val_errors.append(mean_squared_error(y_test, y_pred_test))"
   ]
  },
  {
   "cell_type": "code",
   "execution_count": 21,
   "metadata": {},
   "outputs": [
    {
     "data": {
      "image/png": "[encoded data removed]",
      "text/plain": [
       "<Figure size 800x600 with 1 Axes>"
      ]
     },
     "metadata": {},
     "output_type": "display_data"
    }
   ],
   "source": [
    "plt.figure(figsize=(8,6))\n",
    "plt.plot(np.sqrt(train_errors), \"g\", linewidth=1.5)\n",
    "plt.plot(np.sqrt(val_errors), \"b\", linewidth=2)\n",
    "plt.xlim([-1,150])\n",
    "plt.legend(['Error de entrenamiento', 'Error de testeo'])\n",
    "plt.title('Learning curves',fontdict=dict(fontsize=18))\n",
    "plt.ylabel('RMSE');"
   ]
  },
  {
   "cell_type": "markdown",
   "metadata": {},
   "source": [
    "Otra forma de lidiar con un problema de **overfitting** es aplicar alguna técnica de **regularización**."
   ]
  },
  {
   "cell_type": "markdown",
   "metadata": {},
   "source": [
    "### 2) Regularización"
   ]
  },
  {
   "cell_type": "markdown",
   "metadata": {},
   "source": [
    "Hasta ahora, cuando ajustamos modelos lineales, seleccionamos el modelo que minimizaba el error cuadrático.\n",
    "\n",
    "Para un modelo de la forma\n",
    "\n",
    "\n",
    "$$\\text{y=X}w+ \\epsilon$$\n",
    "\n",
    "minimizamos la suma\n",
    "$$\\sum_{i}{\\left(\\hat{y}_i - y_i \\right)^2}$$\n",
    "\n",
    "Este es un ejemplo de **funcion de costo**: una función que mide el \"costo\" de los errores de las predicciones de un modelo. Para aplicar la técnica de regularización, modificamos la función de costo, agregando un término que penaliza los modelos por su complejidad. Por ejemplo, podríamos tener una nueva función de costo de la forma:\n",
    "\n",
    "$$\\sum_{i}{\\left(\\hat{y}_i - y_i \\right)^2 + \\alpha f(w)}$$\n",
    "\n",
    "donde $f(w)$ es una función de los parámetros de nuestro modelo y $\\alpha$ es un hiperparámetro que controla cuán fuerte es la penalización.\n",
    "\n",
    "Un mayor valor de $\\alpha$ significa una mayor penalización, ya que aumenta el costo, que es lo que buscamos minimizar. Esto conllevará a **valores más chicos de los parámetros estimados**. \n",
    "\n",
    "En esta práctica, veremos 3 ejemplos de regularización:\n",
    "\n",
    "- **Regresión Ridge**\n",
    "- **Regresión Lasso**\n",
    "- **ElasticNet**\n",
    "\n",
    "Conceptualmente, todas son iguales: buscan reducir el tamaño de los parámetros agregando una penalidad. Lo que cambia entre las diferentes técnicas es la forma de $f(w)$:\n",
    "\n",
    "\n",
    "###### Regresión Ridge\n",
    "\n",
    "$$\\sum_{i}{\\left(\\hat{y}_i - y_i \\right)^2} + \\alpha \\sum_{j}{{w}_j}^2$$\n",
    "\n",
    "\n",
    "A medida que incrementamos $\\alpha$, los parámentros $w_j$ van a tender asintóticamente a cero.\n",
    "\n",
    "A esta penalidad se la conoce también como *L2*. \n",
    "\n",
    "Podemos verlo en el siguiente gráfico tomado de \"An Introduction to Statistical Learning with Applications in R\" de Gareth James et al. Tengamos en cuenta que al *hiperparámetro* $\\alpha$, también suele llamárselo $\\lambda$.\n",
    "\n",
    "<img src=\"img/ridge.png\" width=\"350\">\n",
    "\n",
    "\n",
    "###### Regresión Lasso\n",
    "\n",
    "$$\\sum_{i}{\\left(\\hat{y}_i - y_i \\right)^2} + \\alpha \\sum_{j}|{{{w}_j}|}$$\n",
    "\n",
    "En el caso de **Lasso**, al incrementarse $\\alpha$, los parámetros van convirtiéndose en $0$. Por este motivo, se dice que **Lasso** es además una técnica de **feature selection**. \n",
    "\n",
    "A esta penalidad se la conoce también como *L1*. \n",
    "\n",
    "Veamos el ejemplo anterior pero con regularización Lasso:\n",
    "\n",
    "<img src=\"img/lasso.png\" width=\"350\">\n",
    "\n",
    "\n",
    "Se puede demostrar que los coeficientes estimados por Ridge y Lasso resuelven los siguientes problemas de minimización con restricciones:\n",
    "\n",
    "**Ridge**\n",
    "$$ min_{{w}} {\\sum_{i}{\\left(\\hat{y}_i - y_i \\right)^2}}\\quad sujeto \\quad  a \\quad  \\sum_{j}{{w}_j}^2 \\leq s$$\n",
    "\n",
    "**Lasso**\n",
    "$$ min_{{w}} {\\sum_{i}{\\left(\\hat{y}_i - y_i \\right)^2}}\\quad sujeto \\quad  a \\quad  \\sum_{j}|{{{w}_j}|} \\leq s$$\n",
    "\n",
    "Donde a mayor valor de $\\lambda$ el valor de $s$ es más chico.\n",
    "\n",
    "Veamos el siguiente gráfico para obtener una intuición de la diferencia entre ambas regularizaciones. Hay que tener en cuenta que en el gráfico, los pesos que nosotros indicamos con $w$, están indicados con $\\beta$.\n",
    "\n",
    "\n",
    "<img src=\"img/ridgevslasso.png\" width=\"500\">\n",
    "\n",
    "Las regularizaciones pueden pensarse como “restricciones presupuestarias” a los posibles valores de $w$. Lasso es más propenso a generar soluciones en las que alguno de los coeficientes es exactamente cero.\n",
    "\n",
    "###### ElasticNet\n",
    "\n",
    "- Combina linealmente las regularizaciones de Ridge y Lasso. Cuando entrenemos el modelo, vamos a ver cómo `Sklearn` implementa la combinación. \n",
    "- Es posible obtener soluciones parsimoniosas y bien condicionadas. \n",
    "- Ahora tenemos que optimizar 2 hiperparámetros: no free lunch!\n"
   ]
  },
  {
   "cell_type": "markdown",
   "metadata": {},
   "source": [
    "#### 2.1) Modelo base sin regularización\n",
    "\n",
    "Vamos a crear un modelo base sin regularización. Para poder apreciar el efecto de la regularización, este modelo debería tener un problema de overfitting. Vamos a tomar nuestra regresión lineal y vamos a crear variables polinómicas para un subset de las $features$, con el objetivo de llegar a tener un problema de sobreajuste que podamos mitigar con las técnicas de regularización que estamos estudiando. "
   ]
  },
  {
   "cell_type": "code",
   "execution_count": 22,
   "metadata": {},
   "outputs": [
    {
     "name": "stdout",
     "output_type": "stream",
     "text": [
      "X_train_pol.shape: (15129, 164)\n",
      "X_train_no_pol.shape: (15129, 10)\n",
      "X_train_feat_eng.shape: (15129, 174)\n"
     ]
    }
   ],
   "source": [
    "X_train_pol = PolynomialFeatures(degree=3, include_bias=False).fit_transform(\\\n",
    "                      X_train_std[['sqft_living', 'grade', 'sqft_above','sqft_living15',\\\n",
    "                                  'bathrooms', 'view', 'sqft_basement', 'bedrooms']])\n",
    "\n",
    "X_train_no_pol = X_train_std[[x for x in X_train_std.columns if x not in ['sqft_living', \\\n",
    "                                 'grade', 'sqft_above','sqft_living15',\\\n",
    "                                  'bathrooms', 'view', 'sqft_basement', 'bedrooms']]].values\n",
    "\n",
    "X_train_feat_eng = np.concatenate((X_train_pol, X_train_no_pol), axis=1 )\n",
    "\n",
    "\n",
    "print('X_train_pol.shape: {}'.format(X_train_pol.shape))\n",
    "print('X_train_no_pol.shape: {}'.format(X_train_no_pol.shape))\n",
    "print('X_train_feat_eng.shape: {}'.format(X_train_feat_eng.shape))"
   ]
  },
  {
   "cell_type": "code",
   "execution_count": 23,
   "metadata": {},
   "outputs": [
    {
     "name": "stdout",
     "output_type": "stream",
     "text": [
      "X_test_pol.shape: (6484, 164)\n",
      "X_test_no_pol.shape: (6484, 10)\n",
      "X_test_feat_eng.shape: (6484, 174)\n"
     ]
    }
   ],
   "source": [
    "X_test_pol = PolynomialFeatures(degree=3, include_bias=False).fit_transform(\\\n",
    "                      X_test_std[['sqft_living', 'grade', 'sqft_above','sqft_living15',\\\n",
    "                                  'bathrooms', 'view', 'sqft_basement', 'bedrooms']])\n",
    "\n",
    "X_test_no_pol = X_test_std[[x for x in X_train_std.columns if x not in ['sqft_living', \\\n",
    "                                 'grade', 'sqft_above','sqft_living15',\\\n",
    "                                  'bathrooms', 'view', 'sqft_basement', 'bedrooms']]].values\n",
    "\n",
    "X_test_feat_eng = np.concatenate((X_test_pol,X_test_no_pol), axis=1 )\n",
    "\n",
    "\n",
    "print('X_test_pol.shape: {}'.format(X_test_pol.shape))\n",
    "print('X_test_no_pol.shape: {}'.format(X_test_no_pol.shape))\n",
    "print('X_test_feat_eng.shape: {}'.format(X_test_feat_eng.shape))"
   ]
  },
  {
   "cell_type": "code",
   "execution_count": 24,
   "metadata": {},
   "outputs": [
    {
     "name": "stdout",
     "output_type": "stream",
     "text": [
      "R2 train sin regularización: 0.7634\n",
      "R2 test sin regularización: 0.7303\n"
     ]
    }
   ],
   "source": [
    "lr_base = LinearRegression(fit_intercept=True)\n",
    "\n",
    "lr_base.fit(X_train_feat_eng, y_train)\n",
    "\n",
    "y_pred_train = lr_base.predict(X_train_feat_eng)\n",
    "y_pred_test = lr_base.predict(X_test_feat_eng)\n",
    "\n",
    "print ('R2 train sin regularización: {}'.format(r2_score(y_train, y_pred_train).round(4)))\n",
    "print ('R2 test sin regularización: {}'.format(r2_score(y_test, y_pred_test).round(4)))"
   ]
  },
  {
   "cell_type": "code",
   "execution_count": 25,
   "metadata": {},
   "outputs": [
    {
     "name": "stdout",
     "output_type": "stream",
     "text": [
      "norma del vector de parametros modelo base: 1.9292052903023773e+17\n"
     ]
    }
   ],
   "source": [
    "from numpy import linalg as LA\n",
    "\n",
    "print('norma del vector de parametros modelo base: {}'.format(LA.norm(lr_base.coef_).round(4)))"
   ]
  },
  {
   "cell_type": "markdown",
   "metadata": {},
   "source": [
    "#### 2.2) Regresión Ridge\n",
    "\n",
    "Importemos la clase `Ridge` de `sklearn.linear_model` y entrenemos el modelo aplicando la **regresión Ridge**:"
   ]
  },
  {
   "cell_type": "code",
   "execution_count": 26,
   "metadata": {},
   "outputs": [],
   "source": [
    "from sklearn.linear_model import Ridge"
   ]
  },
  {
   "cell_type": "code",
   "execution_count": 27,
   "metadata": {},
   "outputs": [
    {
     "name": "stdout",
     "output_type": "stream",
     "text": [
      "R2 train Ridge: 0.7598\n",
      "R2 test Ridge: 0.7421\n",
      "norma del vector de parametros regresión Ridge: 168778.7101\n"
     ]
    }
   ],
   "source": [
    "rlr = Ridge(alpha=1000)\n",
    "\n",
    "rlr.fit(X_train_feat_eng, y_train)\n",
    "\n",
    "y_pred_train_ridge = rlr.predict(X_train_feat_eng)\n",
    "y_pred_test_ridge = rlr.predict(X_test_feat_eng)\n",
    "\n",
    "print ('R2 train Ridge: {}'.format(r2_score(y_train, y_pred_train_ridge).round(4)))\n",
    "print ('R2 test Ridge: {}'.format(r2_score(y_test,y_pred_test_ridge).round(4)))\n",
    "\n",
    "print('norma del vector de parametros regresión Ridge: {}'.format(LA.norm(rlr.coef_).round(4)))"
   ]
  },
  {
   "cell_type": "markdown",
   "metadata": {},
   "source": [
    "Podemos observar que el $R2$ en el set de testeo mejoró a costas del set de entrenamiento. Podemos ver además que la norma del vector de coeficientes se redujo sustancialmente. \n",
    "\n",
    "Veamos ahora cómo varía la norma de los coeficientes a medida que incrementamos $\\alpha$."
   ]
  },
  {
   "cell_type": "code",
   "execution_count": 28,
   "metadata": {},
   "outputs": [],
   "source": [
    "norma_coefs = []\n",
    "\n",
    "for alpha in range(1, 10_000, 50):\n",
    "    model = Ridge(alpha=alpha).fit(X_train_feat_eng,y_train)\n",
    "    norm = LA.norm(model.coef_)\n",
    "    norma_coefs.append([alpha,norm])\n",
    "  "
   ]
  },
  {
   "cell_type": "code",
   "execution_count": 29,
   "metadata": {},
   "outputs": [
    {
     "data": {
      "image/png": "[encoded data removed]",
      "text/plain": [
       "<Figure size 700x500 with 1 Axes>"
      ]
     },
     "metadata": {},
     "output_type": "display_data"
    }
   ],
   "source": [
    "plt.figure(figsize=(7,5))\n",
    "plt.plot(np.array(norma_coefs)[0:,0],np.array(norma_coefs)[0:,1])\n",
    "plt.title('Ridge: efecto de alpha',fontdict=dict(fontsize=14))\n",
    "plt.xlabel('Alpha', fontdict=dict(fontsize=12))\n",
    "plt.ylabel('Norma del vector de coeficientes', fontdict=dict(fontsize=12));"
   ]
  },
  {
   "cell_type": "markdown",
   "metadata": {},
   "source": [
    "A pesar de que la norma se reduce, vemos que los parámetros se mantienen todos, en valor absoluto, mayores a cero: "
   ]
  },
  {
   "cell_type": "code",
   "execution_count": 30,
   "metadata": {},
   "outputs": [
    {
     "data": {
      "text/plain": [
       "array([], dtype=float64)"
      ]
     },
     "execution_count": 30,
     "metadata": {},
     "output_type": "execute_result"
    }
   ],
   "source": [
    "rlr.coef_[rlr.coef_==0]"
   ]
  },
  {
   "cell_type": "markdown",
   "metadata": {},
   "source": [
    "#### 2.3) Regresión Lasso\n",
    "\n",
    "Importemos la clase `Lasso` de `sklearn.linear_model` y entrenemos el modelo aplicando la **regresión Lasso**:"
   ]
  },
  {
   "cell_type": "code",
   "execution_count": 31,
   "metadata": {},
   "outputs": [],
   "source": [
    "from sklearn.linear_model import Lasso"
   ]
  },
  {
   "cell_type": "code",
   "execution_count": 32,
   "metadata": {},
   "outputs": [
    {
     "name": "stdout",
     "output_type": "stream",
     "text": [
      "R2 train Lasso: 0.7597\n",
      "R2 test Lasso: 0.7452\n"
     ]
    }
   ],
   "source": [
    "llr = Lasso(alpha=1000)\n",
    "\n",
    "llr.fit(X_train_feat_eng, y_train)\n",
    "\n",
    "y_pred_train_lasso = llr.predict(X_train_feat_eng)\n",
    "y_pred_test_lasso = llr.predict(X_test_feat_eng)\n",
    "\n",
    "print ('R2 train Lasso: {}'.format(r2_score(y_train, y_pred_train_lasso).round(4)))\n",
    "print ('R2 test Lasso: {}'.format(r2_score(y_test,y_pred_test_lasso).round(4)))"
   ]
  },
  {
   "cell_type": "markdown",
   "metadata": {},
   "source": [
    "Vemos que la regresión Lasso igualó a muchos pesos a cero, efectivamente eliminando del modelo a las variables correspondientes:"
   ]
  },
  {
   "cell_type": "code",
   "execution_count": 33,
   "metadata": {},
   "outputs": [
    {
     "name": "stdout",
     "output_type": "stream",
     "text": [
      "Number of coef equal to zero: 81\n"
     ]
    }
   ],
   "source": [
    "print(f\"Number of coef equal to zero: {(llr.coef_==0).sum()}\")"
   ]
  },
  {
   "cell_type": "markdown",
   "metadata": {},
   "source": [
    "Observamos que a medida que se incrementa $\\alpha$ en la regresión Lasso, además de caer la norma del vector de coeficientes, además una proporción cada vez mayor es igualada a cero. "
   ]
  },
  {
   "cell_type": "code",
   "execution_count": 34,
   "metadata": {},
   "outputs": [],
   "source": [
    "from operator import truediv\n",
    "\n",
    "zero_coefs = []\n",
    "\n",
    "for alpha in range(1,10000,1000):\n",
    "    model = Lasso(alpha=alpha).fit(X_train_feat_eng, y_train)\n",
    "    zeros = len(model.coef_[model.coef_==0]) / len(model.coef_)\n",
    "    zero_coefs.append([alpha,zeros])"
   ]
  },
  {
   "cell_type": "code",
   "execution_count": 35,
   "metadata": {},
   "outputs": [
    {
     "data": {
      "image/png": "[encoded data removed]",
      "text/plain": [
       "<Figure size 700x500 with 1 Axes>"
      ]
     },
     "metadata": {},
     "output_type": "display_data"
    }
   ],
   "source": [
    "plt.figure(figsize=(7,5))\n",
    "plt.plot(np.array(zero_coefs)[0:,0],np.array(zero_coefs)[0:,1])\n",
    "plt.title('Lasso: efecto de alpha',fontdict=dict(fontsize=14))\n",
    "plt.xlabel('Alpha', fontdict=dict(fontsize=12))\n",
    "plt.ylabel('% coeficientes = 0', fontdict=dict(fontsize=12));"
   ]
  },
  {
   "cell_type": "markdown",
   "metadata": {},
   "source": [
    "#### 2.4) ElasticNet\n",
    "\n",
    "Importemos la clase `ElasticNet` de `sklearn.linear_model` y entrenemos el modelo aplicando la **regresión ElasticNet**:"
   ]
  },
  {
   "cell_type": "code",
   "execution_count": 36,
   "metadata": {},
   "outputs": [],
   "source": [
    "from sklearn.linear_model import ElasticNet"
   ]
  },
  {
   "cell_type": "code",
   "execution_count": 37,
   "metadata": {},
   "outputs": [
    {
     "name": "stdout",
     "output_type": "stream",
     "text": [
      "R2 train ElasticNet: 0.7315\n",
      "R2 test ElasticNet: 0.7277\n"
     ]
    }
   ],
   "source": [
    "elr = ElasticNet(alpha=1, l1_ratio=0.5)\n",
    "\n",
    "elr.fit(X_train_feat_eng, y_train)\n",
    "\n",
    "y_pred_train_elastic = elr.predict(X_train_feat_eng)\n",
    "y_pred_test_elastic = elr.predict(X_test_feat_eng)\n",
    "\n",
    "print ('R2 train ElasticNet: {}'.format(r2_score(y_train, y_pred_train_elastic).round(4)))\n",
    "print ('R2 test ElasticNet: {}'.format(r2_score(y_test,y_pred_test_elastic).round(4)))"
   ]
  },
  {
   "cell_type": "markdown",
   "metadata": {},
   "source": [
    "En el caso de `ElasticNet`, tenemos que definir 2 hiperparámetros. Podemos ingresar a la documentación de la clase para ver de qué manera está implementada la combinación entre `Ridge` y `Lasso` y como ingresan ambos hiperparámetros al modelo. \n",
    "\n",
    "`ElasticNet` minimiza la siguiente función objetivo:\n",
    "\n",
    "        1 / (2 * n_samples) * ||y - Xw||^2_2\n",
    "        + alpha * l1_ratio * ||w||_1\n",
    "        + 0.5 * alpha * (1 - l1_ratio) * ||w||^2_2"
   ]
  },
  {
   "cell_type": "markdown",
   "metadata": {},
   "source": [
    "En la clase que viene, veremos técnicas para buscar las combinaciones óptimas de los hiperparámetros."
   ]
  },
  {
   "cell_type": "code",
   "execution_count": null,
   "metadata": {},
   "outputs": [],
   "source": []
  }
 ],
 "metadata": {
  "kernelspec": {
   "display_name": "Python 3 (ipykernel)",
   "language": "python",
   "name": "python3"
  },
  "language_info": {
   "codemirror_mode": {
    "name": "ipython",
    "version": 3
   },
   "file_extension": ".py",
   "mimetype": "text/x-python",
   "name": "python",
   "nbconvert_exporter": "python",
   "pygments_lexer": "ipython3",
   "version": "3.11.0"
  }
 },
 "nbformat": 4,
 "nbformat_minor": 4
}
